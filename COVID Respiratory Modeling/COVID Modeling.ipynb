{
 "cells": [
  {
   "cell_type": "markdown",
   "id": "weird-particular",
   "metadata": {},
   "source": [
    "# COVID Respiratory Modeling\n",
    "In this notebook we will implement the mathematical model for viral particle deposition in the respiratory tract."
   ]
  },
  {
   "cell_type": "code",
   "execution_count": 1,
   "id": "strange-copyright",
   "metadata": {},
   "outputs": [
    {
     "name": "stdout",
     "output_type": "stream",
     "text": [
      "Hello Manu and Lazaros\n"
     ]
    }
   ],
   "source": [
    "print('Hello Manu and Lazaros')"
   ]
  },
  {
   "cell_type": "code",
   "execution_count": 2,
   "id": "alike-norman",
   "metadata": {},
   "outputs": [],
   "source": [
    "#This is a comment to test the branching of GitHub"
   ]
  },
  {
   "cell_type": "code",
   "execution_count": 4,
   "id": "crucial-dutch",
   "metadata": {},
   "outputs": [
    {
     "name": "stdout",
     "output_type": "stream",
     "text": [
      "This is a test on working on the main branch\n"
     ]
    }
   ],
   "source": [
    "print('This is a test on working on the main branch')"
   ]
  },
  {
   "cell_type": "code",
   "execution_count": null,
   "id": "current-advance",
   "metadata": {},
   "outputs": [],
   "source": []
  }
 ],
 "metadata": {
  "kernelspec": {
   "display_name": "Python 3",
   "language": "python",
   "name": "python3"
  },
  "language_info": {
   "codemirror_mode": {
    "name": "ipython",
    "version": 3
   },
   "file_extension": ".py",
   "mimetype": "text/x-python",
   "name": "python",
   "nbconvert_exporter": "python",
   "pygments_lexer": "ipython3",
   "version": "3.9.1"
  }
 },
 "nbformat": 4,
 "nbformat_minor": 5
}

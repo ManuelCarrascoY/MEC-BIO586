{
 "cells": [
  {
   "cell_type": "markdown",
   "id": "weird-particular",
   "metadata": {},
   "source": [
    "# COVID Respiratory Modeling\n",
    "In this notebook we will implement the mathematical model for viral particle deposition in the respiratory tract."
   ]
  },
  {
   "cell_type": "code",
   "execution_count": 1,
   "id": "desperate-repository",
   "metadata": {},
   "outputs": [],
   "source": [
    "import numpy as np\n",
    "import matplotlib.pyplot as plt\n",
    "import seaborn as sns\n",
    "import pandas as pd\n"
   ]
  },
  {
   "cell_type": "code",
   "execution_count": 3,
   "id": "fourth-failing",
   "metadata": {},
   "outputs": [],
   "source": [
    "def velocity(Q,d):\n",
    "    A = np.pi*(d/2)**2\n",
    "    u = Q/A\n",
    "    return u"
   ]
  },
  {
   "cell_type": "code",
   "execution_count": null,
   "id": "italic-melissa",
   "metadata": {},
   "outputs": [],
   "source": [
    "#Parameters\n",
    "\n",
    "miu = \n",
    "D = #Diffusion coefficient\n"
   ]
  },
  {
   "cell_type": "code",
   "execution_count": null,
   "id": "informative-observer",
   "metadata": {},
   "outputs": [],
   "source": [
    "def beta(L,d,u):\n",
    "    B = (3*np.pi*L*u_g)/16*u*d\n",
    "    return B\n",
    "\n",
    "def particle_reynolds()\n",
    "    Re = rho*u_pt*d_p/miu\n",
    "\n",
    "def impaction(L,d,u):\n",
    "    k_I = (1.3*rho_p*d**2*u)/(L*18*m*d_L)\n",
    "    return k_I\n",
    "\n",
    "def sedimentation(L,d,Q,u):\n",
    "    k_S = (2*Q)/(pi*L) * (2*B*sqrt(1-B**(2/3)) - B**(1/3)*sqrt(1-B**(2/3)) + sin(B**(1/3))**(-1)) \n",
    "    return k_S\n",
    "\n",
    "def beta_diffusion(L,Q)\n",
    "    B = np.pi*D*L/(4*Q)\n",
    "    return B\n",
    "\n",
    "def diffusion(L,Q)\n",
    "    B = beta_diffusion(L,Q)\n",
    "    k_d = 1 - 0.819*np.exp(-14.63*B) - 0.0976*np.exp(-89.22*B) - 0.0325*np.exp(-228*B) - 0.0509*np.exp(-125.9*B**(2/3))\n",
    "    return k_d\n",
    "\n",
    "\n",
    "k_I = (1.3*rho_p*d_p**2*u)/(L*18*m*d_L)\n",
    "k_S = (2*Q)/(pi*L) * (2*B*sqrt(1-B**(2/3)) - B**(1/3)*sqrt(1-B**(2/3)) + sin(B**(1/3))**(-1)) "
   ]
  }
 ],
 "metadata": {
  "kernelspec": {
   "display_name": "Python 3",
   "language": "python",
   "name": "python3"
  },
  "language_info": {
   "codemirror_mode": {
    "name": "ipython",
    "version": 3
   },
   "file_extension": ".py",
   "mimetype": "text/x-python",
   "name": "python",
   "nbconvert_exporter": "python",
   "pygments_lexer": "ipython3",
   "version": "3.9.1"
  }
 },
 "nbformat": 4,
 "nbformat_minor": 5
}

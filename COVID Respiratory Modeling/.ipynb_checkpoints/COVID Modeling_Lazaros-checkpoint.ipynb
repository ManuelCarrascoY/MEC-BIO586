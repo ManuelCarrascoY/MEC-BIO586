{
 "cells": [
  {
   "cell_type": "markdown",
   "metadata": {},
   "source": [
    "# COVID Respiratory Modeling\n",
    "In this notebook we will implement the mathematical model for viral particle deposition in the respiratory tract."
   ]
  },
  {
   "cell_type": "code",
   "execution_count": 3,
   "metadata": {},
   "outputs": [],
   "source": [
    "import numpy as np"
   ]
  },
  {
   "cell_type": "code",
   "execution_count": 10,
   "metadata": {},
   "outputs": [],
   "source": [
    "def velocity(Q,d):\n",
    "    A = np.pi*(d/2)**2\n",
    "    u = Q/A\n",
    "    return u"
   ]
  },
  {
   "cell_type": "code",
   "execution_count": 11,
   "metadata": {},
   "outputs": [
    {
     "name": "stdout",
     "output_type": "stream",
     "text": [
      "{0: 11.789255043844099, 1: 12.831626693783553, 2: 13.861658565123706, 3: 15.225281545780803, 4: 11.789255043844099, 5: 9.744180189299717, 6: 7.612640772890401, 7: 5.641125109589863, 8: 4.312861577889116, 9: 3.145719327640662, 10: 2.2072153720214773, 11: 1.569814821444448, 12: 1.0332947309463427, 13: 0.6934477206120421, 14: 0.4257434690828499, 15: 0.3132721360787, 16: 0.16190078032622818, 17: 0.09993875328779517, 18: 0.05828428091744214, 19: 0.03298114583377215, 20: 0.01798897559180313, 21: 0.009850642394105285, 22: 0.005417560317281579, 23: 0.00284591215417198}\n"
     ]
    },
    {
     "data": {
      "text/plain": [
       "0.954929658551372"
      ]
     },
     "execution_count": 11,
     "metadata": {},
     "output_type": "execute_result"
    }
   ],
   "source": [
    "Q0 = 30 # l/min\n",
    "\n",
    "Q1 = Q0/2\n",
    "\n",
    "#u = Q/A\n",
    "#A = (pi*d^2)/4\n",
    "\n",
    "#k_I = (1.3*rho_p*d_p^2*u)/(L*18*m*d_L)\n",
    "#k_S = (2*Q)/(pi*L) * (2*B*sqrt(1-B^(2/3)) - B^(1/3)*sqrt(1-B^(2/3)) + sin(B^(1/3))^(-1)) \n",
    "\n",
    "final_generation = 23\n",
    "\n",
    "lengths = [12, 4.76, 1.9, 1.76, 1.27, 1.07, 0.9, 0.76, 0.64, 0.54, 0.46, 0.39, 0.33, 0.27, 0.23, 0.2, 0.165, 0.14, 0.12, 0.099, 0.083, 0.07, 0.059, 0.05]\n",
    "diameters = [1.8, 1.22, 0.83, 0.56, 0.45, 0.35, 0.28, 0.23, 0.186, 0.154, 0.13, 0.109, 0.095, 0.082, 0.074, 0.061, 0.06, 0.054, 0.05, 0.047, 0.045, 0.043, 0.041, 0.04]\n",
    "\n",
    "Q = {}\n",
    "u = {}\n",
    "Q[0] = Q0\n",
    "u[0] = velocity(Q0,diameters[0])\n",
    "for i in range(1,final_generation+1):\n",
    "        Q[i] = Q[i-1]/2\n",
    "        u[i] = velocity(Q[i],diameters[i])\n",
    "print(u)\n"
   ]
  },
  {
   "cell_type": "code",
   "execution_count": null,
   "metadata": {},
   "outputs": [],
   "source": []
  }
 ],
 "metadata": {
  "kernelspec": {
   "display_name": "Python 3",
   "language": "python",
   "name": "python3"
  },
  "language_info": {
   "codemirror_mode": {
    "name": "ipython",
    "version": 3
   },
   "file_extension": ".py",
   "mimetype": "text/x-python",
   "name": "python",
   "nbconvert_exporter": "python",
   "pygments_lexer": "ipython3",
   "version": "3.8.3"
  }
 },
 "nbformat": 4,
 "nbformat_minor": 5
}

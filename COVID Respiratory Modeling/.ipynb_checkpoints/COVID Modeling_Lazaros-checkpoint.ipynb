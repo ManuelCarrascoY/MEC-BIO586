{
 "cells": [
  {
   "cell_type": "markdown",
   "metadata": {},
   "source": [
    "# COVID Respiratory Modeling\n",
    "In this notebook we will implement the mathematical model for viral particle deposition in the respiratory tract."
   ]
  },
  {
   "cell_type": "code",
   "execution_count": 41,
   "metadata": {},
   "outputs": [],
   "source": [
    "import numpy as np\n",
    "import matplotlib.pyplot as plt\n",
    "import seaborn as sns\n",
    "import pandas as pd"
   ]
  },
  {
   "cell_type": "code",
   "execution_count": 46,
   "metadata": {},
   "outputs": [],
   "source": [
    "# Parameter table\n",
    "\n",
    "# Airflow characteristics\n",
    "rho_f = 1.2*10**(-4) # g cm^-3\n",
    "mu = 1.81*10**(-4) # g cm^-1 s^-1\n",
    "Q0 = 30 # L min^-1\n",
    "g = 980 # cm s^-2\n",
    "lamda = 0.066*10**(-4)\n",
    "K_b = 1.38*10**(-16)\n",
    "T = 298 # K\n",
    "# d_L = \n",
    "\n",
    "# Virus characteristics\n",
    "C0 = 10^7 # Copies/mL\n",
    "# A = \n",
    "d_p = 60 # nm\n",
    "rho_p = 1.18 # g cm^-3\n",
    "p = 8.2 # day^-1\n",
    "c = 0.6 # day^-1\n",
    "b = 3.9*10**(-7) # (Copies/mL)^-1 day^-1\n",
    "d = 4.71 # day^-1"
   ]
  },
  {
   "cell_type": "code",
   "execution_count": 10,
   "metadata": {},
   "outputs": [],
   "source": [
    "def velocity(Q,d):\n",
    "    A = np.pi*(d/2)**2\n",
    "    u = Q/A\n",
    "    return u"
   ]
  },
  {
   "cell_type": "code",
   "execution_count": 11,
   "metadata": {},
   "outputs": [
    {
     "name": "stdout",
     "output_type": "stream",
     "text": [
      "{0: 11.789255043844099, 1: 12.831626693783553, 2: 13.861658565123706, 3: 15.225281545780803, 4: 11.789255043844099, 5: 9.744180189299717, 6: 7.612640772890401, 7: 5.641125109589863, 8: 4.312861577889116, 9: 3.145719327640662, 10: 2.2072153720214773, 11: 1.569814821444448, 12: 1.0332947309463427, 13: 0.6934477206120421, 14: 0.4257434690828499, 15: 0.3132721360787, 16: 0.16190078032622818, 17: 0.09993875328779517, 18: 0.05828428091744214, 19: 0.03298114583377215, 20: 0.01798897559180313, 21: 0.009850642394105285, 22: 0.005417560317281579, 23: 0.00284591215417198}\n"
     ]
    },
    {
     "data": {
      "text/plain": [
       "0.954929658551372"
      ]
     },
     "execution_count": 11,
     "metadata": {},
     "output_type": "execute_result"
    }
   ],
   "source": [
    "final_generation = 23\n",
    "\n",
    "lengths = [12, 4.76, 1.9, 1.76, 1.27, 1.07, 0.9, 0.76, 0.64, 0.54, 0.46, 0.39, 0.33, 0.27, 0.23, 0.2, 0.165, 0.14, 0.12, 0.099, 0.083, 0.07, 0.059, 0.05]\n",
    "diameters = [1.8, 1.22, 0.83, 0.56, 0.45, 0.35, 0.28, 0.23, 0.186, 0.154, 0.13, 0.109, 0.095, 0.082, 0.074, 0.061, 0.06, 0.054, 0.05, 0.047, 0.045, 0.043, 0.041, 0.04]\n",
    "\n",
    "Q = {}\n",
    "u = {}\n",
    "Q[0] = Q0\n",
    "u[0] = velocity(Q0,diameters[0])\n",
    "for i in range(1,final_generation+1):\n",
    "        Q[i] = Q[i-1]/2\n",
    "        u[i] = velocity(Q[i],diameters[i])\n",
    "print(u)"
   ]
  },
  {
   "cell_type": "code",
   "execution_count": 38,
   "metadata": {},
   "outputs": [
    {
     "data": {
      "image/png": "[encoded data removed]",
      "text/plain": [
       "<Figure size 432x288 with 1 Axes>"
      ]
     },
     "metadata": {
      "needs_background": "light"
     },
     "output_type": "display_data"
    }
   ],
   "source": [
    "sns.reset_orig()\n",
    "sns.set_palette(sns.color_palette())\n",
    "sns.set_color_codes()\n",
    "sns.set_style({'font.family':'serif', 'font.serif':'Helvetica'})\n",
    "\n",
    "reds = sns.color_palette(\"Reds\")\n",
    "reds.reverse()\n",
    "\n",
    "fig_flow, ax_flow = plt.subplots()\n",
    "ax_flow.set_title(\" \")\n",
    "ax_flow.set_ylabel(\"Air Flowrate (L/min)\")\n",
    "ax_flow.set_xlabel(\"Generation number\")\n",
    "#ax_flow.legend(bbox_to_anchor=(1.05, 1), loc=2, borderaxespad=0., handles=myhandles, labels=mylabels)\n",
    "#ax_flow.set(xlim=(11.4, 4.6))\n",
    "#ax_flow.set(ylim=(50, 95))\n",
    "ax_flow.xaxis.grid()\n",
    "\n",
    "final_colors = [reds[0]]\n",
    "final_lines = ['-']\n",
    "final_markers = ['s']\n",
    "final_labels = [\"label\"]\n",
    "for i in range(final_generation+1):\n",
    "    ax_flow.plot(i, Q[i], color=final_colors[0],\n",
    "                 marker=final_markers[0], label=final_labels[0],\n",
    "                 linestyle=final_lines[0])   \n",
    "#fig_flow.savefig(os.path.join(outputdir, \"Pressure_along_path_600dpi\"), bbox_inches='tight', dpi=600)"
   ]
  },
  {
   "cell_type": "code",
   "execution_count": 39,
   "metadata": {},
   "outputs": [
    {
     "data": {
      "image/png": "[encoded data removed]",
      "text/plain": [
       "<Figure size 432x288 with 1 Axes>"
      ]
     },
     "metadata": {
      "needs_background": "light"
     },
     "output_type": "display_data"
    }
   ],
   "source": [
    "sns.reset_orig()\n",
    "sns.set_palette(sns.color_palette())\n",
    "sns.set_color_codes()\n",
    "sns.set_style({'font.family':'serif', 'font.serif':'Helvetica'})\n",
    "\n",
    "blues = sns.color_palette(\"Blues\")\n",
    "blues.reverse()\n",
    "\n",
    "fig_flow, ax_flow = plt.subplots()\n",
    "ax_flow.set_title(\" \")\n",
    "ax_flow.set_ylabel(\"Velocity (UNITS)\")\n",
    "ax_flow.set_xlabel(\"Generation number\")\n",
    "#ax_flow.legend(bbox_to_anchor=(1.05, 1), loc=2, borderaxespad=0., handles=myhandles, labels=mylabels)\n",
    "#ax_flow.set(xlim=(11.4, 4.6))\n",
    "#ax_flow.set(ylim=(50, 95))\n",
    "ax_flow.xaxis.grid()\n",
    "\n",
    "final_colors = [blues[0]]\n",
    "final_lines = ['-']\n",
    "final_markers = ['s']\n",
    "final_labels = [\"label\"]\n",
    "for i in range(final_generation+1):\n",
    "    ax_flow.plot(i, u[i], color=final_colors[0],\n",
    "                 marker=final_markers[0], label=final_labels[0],\n",
    "                 linestyle=final_lines[0])   \n",
    "#fig_flow.savefig(os.path.join(outputdir, \"Pressure_along_path_600dpi\"), bbox_inches='tight', dpi=600)"
   ]
  },
  {
   "cell_type": "code",
   "execution_count": 47,
   "metadata": {},
   "outputs": [
    {
     "ename": "TypeError",
     "evalue": "unsupported operand type(s) for *: 'float' and 'dict'",
     "output_type": "error",
     "traceback": [
      "\u001b[0;31m---------------------------------------------------------------------------\u001b[0m",
      "\u001b[0;31mTypeError\u001b[0m                                 Traceback (most recent call last)",
      "\u001b[0;32m<ipython-input-47-c4942bb845ef>\u001b[0m in \u001b[0;36m<module>\u001b[0;34m\u001b[0m\n\u001b[0;32m----> 1\u001b[0;31m \u001b[0mk_I\u001b[0m \u001b[0;34m=\u001b[0m \u001b[0;34m(\u001b[0m\u001b[0;36m1.3\u001b[0m\u001b[0;34m*\u001b[0m\u001b[0mrho_p\u001b[0m\u001b[0;34m*\u001b[0m\u001b[0md_p\u001b[0m\u001b[0;34m**\u001b[0m\u001b[0;36m2\u001b[0m\u001b[0;34m*\u001b[0m\u001b[0mu\u001b[0m\u001b[0;34m)\u001b[0m\u001b[0;34m/\u001b[0m\u001b[0;34m(\u001b[0m\u001b[0mL\u001b[0m\u001b[0;34m*\u001b[0m\u001b[0;36m18\u001b[0m\u001b[0;34m*\u001b[0m\u001b[0mm\u001b[0m\u001b[0;34m*\u001b[0m\u001b[0md_L\u001b[0m\u001b[0;34m)\u001b[0m\u001b[0;34m\u001b[0m\u001b[0;34m\u001b[0m\u001b[0m\n\u001b[0m\u001b[1;32m      2\u001b[0m \u001b[0mk_S\u001b[0m \u001b[0;34m=\u001b[0m \u001b[0;34m(\u001b[0m\u001b[0;36m2\u001b[0m\u001b[0;34m*\u001b[0m\u001b[0mQ\u001b[0m\u001b[0;34m)\u001b[0m\u001b[0;34m/\u001b[0m\u001b[0;34m(\u001b[0m\u001b[0mpi\u001b[0m\u001b[0;34m*\u001b[0m\u001b[0mL\u001b[0m\u001b[0;34m)\u001b[0m \u001b[0;34m*\u001b[0m \u001b[0;34m(\u001b[0m\u001b[0;36m2\u001b[0m\u001b[0;34m*\u001b[0m\u001b[0mB\u001b[0m\u001b[0;34m*\u001b[0m\u001b[0msqrt\u001b[0m\u001b[0;34m(\u001b[0m\u001b[0;36m1\u001b[0m\u001b[0;34m-\u001b[0m\u001b[0mB\u001b[0m\u001b[0;34m**\u001b[0m\u001b[0;34m(\u001b[0m\u001b[0;36m2\u001b[0m\u001b[0;34m/\u001b[0m\u001b[0;36m3\u001b[0m\u001b[0;34m)\u001b[0m\u001b[0;34m)\u001b[0m \u001b[0;34m-\u001b[0m \u001b[0mB\u001b[0m\u001b[0;34m**\u001b[0m\u001b[0;34m(\u001b[0m\u001b[0;36m1\u001b[0m\u001b[0;34m/\u001b[0m\u001b[0;36m3\u001b[0m\u001b[0;34m)\u001b[0m\u001b[0;34m*\u001b[0m\u001b[0msqrt\u001b[0m\u001b[0;34m(\u001b[0m\u001b[0;36m1\u001b[0m\u001b[0;34m-\u001b[0m\u001b[0mB\u001b[0m\u001b[0;34m**\u001b[0m\u001b[0;34m(\u001b[0m\u001b[0;36m2\u001b[0m\u001b[0;34m/\u001b[0m\u001b[0;36m3\u001b[0m\u001b[0;34m)\u001b[0m\u001b[0;34m)\u001b[0m \u001b[0;34m+\u001b[0m \u001b[0msin\u001b[0m\u001b[0;34m(\u001b[0m\u001b[0mB\u001b[0m\u001b[0;34m**\u001b[0m\u001b[0;34m(\u001b[0m\u001b[0;36m1\u001b[0m\u001b[0;34m/\u001b[0m\u001b[0;36m3\u001b[0m\u001b[0;34m)\u001b[0m\u001b[0;34m)\u001b[0m\u001b[0;34m**\u001b[0m\u001b[0;34m(\u001b[0m\u001b[0;34m-\u001b[0m\u001b[0;36m1\u001b[0m\u001b[0;34m)\u001b[0m\u001b[0;34m)\u001b[0m\u001b[0;34m\u001b[0m\u001b[0;34m\u001b[0m\u001b[0m\n",
      "\u001b[0;31mTypeError\u001b[0m: unsupported operand type(s) for *: 'float' and 'dict'"
     ]
    }
   ],
   "source": [
    "k_I = {}\n",
    "k_S = {}\n",
    "\n",
    "def Beta(L,d,u):\n",
    "    B = (3*np.pi*L*u_g)/16*u*d\n",
    "    return B\n",
    "\n",
    "def impaction(L,d,u):\n",
    "    k_I = (1.3*rho_p*d**2*u)/(L*18*m*d_L)\n",
    "    return k_I\n",
    "\n",
    "def sedimentation(L,d,Q,u):\n",
    "    k_S = (2*Q)/(pi*L) * (2*B*sqrt(1-B**(2/3)) - B**(1/3)*sqrt(1-B**(2/3)) + sin(B**(1/3))**(-1)) \n",
    "    return k_S\n",
    "\n",
    "\n",
    "\n",
    "Q[0] = Q0\n",
    "u[0] = velocity(Q0,diameters[0])\n",
    "for i in range(1,final_generation+1):\n",
    "        Q[i] = Q[i-1]/2\n",
    "        u[i] = velocity(Q[i],diameters[i])\n",
    "print(u)\n",
    "\n",
    "\n",
    "k_I = (1.3*rho_p*d_p**2*u)/(L*18*m*d_L)\n",
    "k_S = (2*Q)/(pi*L) * (2*B*sqrt(1-B**(2/3)) - B**(1/3)*sqrt(1-B**(2/3)) + sin(B**(1/3))**(-1)) "
   ]
  },
  {
   "cell_type": "code",
   "execution_count": 50,
   "metadata": {},
   "outputs": [
    {
     "data": {
      "text/plain": [
       "{0: 11.789255043844099,\n",
       " 1: 12.831626693783553,\n",
       " 2: 13.861658565123706,\n",
       " 3: 15.225281545780803,\n",
       " 4: 11.789255043844099,\n",
       " 5: 9.744180189299717,\n",
       " 6: 7.612640772890401,\n",
       " 7: 5.641125109589863,\n",
       " 8: 4.312861577889116,\n",
       " 9: 3.145719327640662,\n",
       " 10: 2.2072153720214773,\n",
       " 11: 1.569814821444448,\n",
       " 12: 1.0332947309463427,\n",
       " 13: 0.6934477206120421,\n",
       " 14: 0.4257434690828499,\n",
       " 15: 0.3132721360787,\n",
       " 16: 0.16190078032622818,\n",
       " 17: 0.09993875328779517,\n",
       " 18: 0.05828428091744214,\n",
       " 19: 0.03298114583377215,\n",
       " 20: 0.01798897559180313,\n",
       " 21: 0.009850642394105285,\n",
       " 22: 0.005417560317281579,\n",
       " 23: 0.00284591215417198}"
      ]
     },
     "execution_count": 50,
     "metadata": {},
     "output_type": "execute_result"
    }
   ],
   "source": [
    "u"
   ]
  },
  {
   "cell_type": "code",
   "execution_count": null,
   "metadata": {},
   "outputs": [],
   "source": []
  }
 ],
 "metadata": {
  "kernelspec": {
   "display_name": "Python 3",
   "language": "python",
   "name": "python3"
  },
  "language_info": {
   "codemirror_mode": {
    "name": "ipython",
    "version": 3
   },
   "file_extension": ".py",
   "mimetype": "text/x-python",
   "name": "python",
   "nbconvert_exporter": "python",
   "pygments_lexer": "ipython3",
   "version": "3.8.3"
  }
 },
 "nbformat": 4,
 "nbformat_minor": 5
}

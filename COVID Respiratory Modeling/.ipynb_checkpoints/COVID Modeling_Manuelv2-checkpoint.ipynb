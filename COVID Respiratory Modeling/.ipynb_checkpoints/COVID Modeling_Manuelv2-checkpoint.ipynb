{
 "cells": [
  {
   "cell_type": "markdown",
   "id": "weird-particular",
   "metadata": {},
   "source": [
    "# COVID Respiratory Modeling\n",
    "In this notebook we will implement the mathematical model for viral particle deposition in the respiratory tract."
   ]
  },
  {
   "cell_type": "code",
   "execution_count": 111,
   "id": "desperate-repository",
   "metadata": {},
   "outputs": [],
   "source": [
    "import numpy as np\n",
    "import matplotlib.pyplot as plt\n",
    "import seaborn as sns\n",
    "import pandas as pd\n",
    "from scipy.optimize import fsolve"
   ]
  },
  {
   "cell_type": "markdown",
   "id": "excited-rebel",
   "metadata": {},
   "source": [
    "## Parameters\n",
    "Values for the Airflow, Virus and Generation Characteristics. **Described in SI units.** "
   ]
  },
  {
   "cell_type": "code",
   "execution_count": 112,
   "id": "intellectual-programmer",
   "metadata": {},
   "outputs": [],
   "source": [
    "# Airflow characteristics\n",
    "rho_f = 1.2e-3 # g cm^-3 #WRONG\n",
    "mu = 1.81e-4 # g cm^-1 s^-1\n",
    "Q0 = 30 # L min^-1\n",
    "g = 980 # cm s^-2\n",
    "lamda = 0.066e-4 # cm\n",
    "K_b = 1.38e-16 # cm^2 g s^-2 K^-1\n",
    "T = 298 # K\n",
    "\n",
    "# SI units:\n",
    "rho_f = 1.2 # kg m^-3\n",
    "mu = mu*0.1 # kg m^-1 s^-1 \n",
    "Q0 = Q0*1.667e-5 # m^3 s^-1\n",
    "g = g*0.01 #m s^-1\n",
    "lamda = lamda*0.01 #m\n",
    "K_b = K_b*1e-7 # m^2 kg s^-2 K^-1\n",
    "T = T # K"
   ]
  },
  {
   "cell_type": "code",
   "execution_count": 113,
   "id": "correct-hybrid",
   "metadata": {},
   "outputs": [],
   "source": [
    "# Virus characteristics\n",
    "C0 = 1e7 # Copies/mL\n",
    "# A = \n",
    "d_p = 60 # nm\n",
    "#d_p = 130 # nm\n",
    "rho_p = 1.18 # g cm^-3\n",
    "p = 8.2 # day^-1\n",
    "c = 0.6 # day^-1\n",
    "b = 3.9e-7 # (Copies/mL)^-1 day^-1\n",
    "d = 4.71 # day^-1\n",
    "\n",
    "# SI units: \n",
    "\n",
    "C0 = C0*1e6 # Copies/m^3\n",
    "d_p = d_p*1e-9 # m\n",
    "rho_p = rho_p*1000 # kg m^-3\n",
    "p = p/86400 # s^-1\n",
    "c = c/86400 # s^-1\n",
    "b = b*1e-6/86400 # (Copies/m^3)^-1 s^-1\n",
    "d = d/86400 # s^-1"
   ]
  },
  {
   "cell_type": "code",
   "execution_count": 114,
   "id": "duplicate-thumbnail",
   "metadata": {},
   "outputs": [
    {
     "name": "stdout",
     "output_type": "stream",
     "text": [
      "10000000000000.0\n"
     ]
    }
   ],
   "source": [
    "print(C0)"
   ]
  },
  {
   "cell_type": "code",
   "execution_count": 115,
   "id": "round-locking",
   "metadata": {},
   "outputs": [],
   "source": [
    "# Generation characteristics\n",
    "final_generation = 23\n",
    "\n",
    "lengths = np.array([12, 4.76, 1.9, 1.76, 1.27, 1.07, 0.9, 0.76, 0.64, 0.54, 0.46, 0.39, 0.33, 0.27, 0.23, 0.2, 0.165, 0.14, 0.12, 0.099, 0.083, 0.07, 0.059, 0.05])\n",
    "diameters = np.array([1.8, 1.22, 0.83, 0.56, 0.45, 0.35, 0.28, 0.23, 0.186, 0.154, 0.13, 0.109, 0.095, 0.082, 0.074, 0.061, 0.06, 0.054, 0.05, 0.047, 0.045, 0.043, 0.041, 0.04])\n",
    "\n",
    "lengths_SI = [0.01*element for element in lengths]\n",
    "diameters_SI = [0.01*element for element in diameters]"
   ]
  },
  {
   "cell_type": "markdown",
   "id": "damaged-prison",
   "metadata": {},
   "source": [
    "## 1. Fluid Velocity and Airflow Rate"
   ]
  },
  {
   "cell_type": "code",
   "execution_count": 116,
   "id": "fourth-failing",
   "metadata": {},
   "outputs": [],
   "source": [
    "def velocity(Q,d):\n",
    "    A = np.pi*(d/2)**2\n",
    "    u = Q/A\n",
    "    return u"
   ]
  },
  {
   "cell_type": "code",
   "execution_count": 117,
   "id": "discrete-opinion",
   "metadata": {},
   "outputs": [],
   "source": [
    "def get_flow_rates(Q0):\n",
    "    Q = {} #Dictionary for the flow rate\n",
    "    Q[0] = Q0\n",
    "    for i in range(1,final_generation+1):\n",
    "        Q[i] = Q[i-1]/2\n",
    "    return Q\n",
    "\n",
    "def get_velocities(Q0):\n",
    "    u = {} #Dictionary for the velocities\n",
    "    u[0] = velocity(Q0,diameters_SI[0])\n",
    "    for i in range(1,final_generation+1):\n",
    "        u[i] = velocity(Q[i],diameters_SI[i])\n",
    "    return u"
   ]
  },
  {
   "cell_type": "code",
   "execution_count": 118,
   "id": "seven-stone",
   "metadata": {},
   "outputs": [],
   "source": [
    "def simple_plot(data, color_code=\"Reds\", title=\"\", ylabel=\"\", xlabel=\"\"):\n",
    "\n",
    "    sns.reset_orig()\n",
    "    sns.set_palette(sns.color_palette())\n",
    "    sns.set_color_codes()\n",
    "    sns.set_style({'font.family':'serif', 'font.serif':'Helvetica'})\n",
    "\n",
    "    colors = sns.color_palette(color_code)\n",
    "    colors.reverse()\n",
    "\n",
    "    fig_flow, ax_flow = plt.subplots()\n",
    "    ax_flow.set_title(title)\n",
    "    ax_flow.set_ylabel(ylabel)\n",
    "    ax_flow.set_xlabel(xlabel)\n",
    "    ax_flow.xaxis.grid()\n",
    "    ax_flow.yaxis.grid()\n",
    "\n",
    "    final_colors = [colors[0]]\n",
    "    final_lines = ['-']\n",
    "    final_markers = ['s']\n",
    "    #final_labels = [\"label\"]\n",
    "    for i in range(final_generation+1):\n",
    "        ax_flow.plot(i, data[i], color=final_colors[0],\n",
    "                     marker=final_markers[0], label=final_labels[0],\n",
    "                     linestyle=final_lines[0])   \n",
    "    "
   ]
  },
  {
   "cell_type": "code",
   "execution_count": 119,
   "id": "boolean-retention",
   "metadata": {},
   "outputs": [
    {
     "data": {
      "image/png": "[encoded data removed]",
      "text/plain": [
       "<Figure size 432x288 with 1 Axes>"
      ]
     },
     "metadata": {
      "needs_background": "light"
     },
     "output_type": "display_data"
    }
   ],
   "source": [
    "Q = get_flow_rates(Q0)\n",
    "\n",
    "Q_paper = [60000*Q[i] for i in range(final_generation+1)]\n",
    "\n",
    "simple_plot(Q_paper, ylabel=\"Air Flowrate (L/min)\", xlabel=\"Generation number\")"
   ]
  },
  {
   "cell_type": "code",
   "execution_count": 120,
   "id": "simplified-vertex",
   "metadata": {},
   "outputs": [
    {
     "data": {
      "image/png": "[encoded data removed]",
      "text/plain": [
       "<Figure size 432x288 with 1 Axes>"
      ]
     },
     "metadata": {
      "needs_background": "light"
     },
     "output_type": "display_data"
    }
   ],
   "source": [
    "u = get_velocities(Q0)\n",
    "\n",
    "u_paper = [6*u[i] for i in range(final_generation+1)]\n",
    "\n",
    "simple_plot(u_paper,\"Blues\", ylabel=\"Velocity (cm/min)\", xlabel=\"Generation number\")"
   ]
  },
  {
   "cell_type": "markdown",
   "id": "specialized-wedding",
   "metadata": {},
   "source": [
    "## 2. Deposition\n",
    "Impaction, Sedimentation and Diffusion"
   ]
  },
  {
   "cell_type": "code",
   "execution_count": 121,
   "id": "informative-observer",
   "metadata": {},
   "outputs": [],
   "source": [
    "# Functions\n",
    "\n",
    "def impaction(L,d,u,d_p):\n",
    "    k_I = (1.3*rho_p*d_p**2*u)/(L*18*mu*d)\n",
    "    return k_I\n",
    "\n",
    "\n",
    "def sedimentation(L,d,Q,u,u_g,gen_number=None):\n",
    "    \n",
    "    def beta_sedimentation(L,d,u,u_g):\n",
    "        B = (3*np.pi*L*u_g)/(16*u*d)\n",
    "        return B\n",
    "    \n",
    "    B = beta_sedimentation(L,d,u,u_g)\n",
    "    if B>1 :\n",
    "        print('ERROR: in generation %d, beta = %f bigger than one' %(gen_number,B) )\n",
    "        print('Where generation length = %f, diameter = %f, u = %f and u_g = %f' %(L,d,u,u_g))\n",
    "        k_S = 0\n",
    "    else:\n",
    "         k_S = ((2*Q)/(np.pi*L)) * (2*B*np.sqrt(1-B**(2/3)) - B**(1/3)*np.sqrt(1-B**(2/3)) + np.arcsin(B**(1/3))) \n",
    "\n",
    "    return k_S\n",
    "\n",
    "\n",
    "def diffusion(L,Q,d_p):\n",
    "    \n",
    "    def diffusivity(d_p):\n",
    "        D = (K_b*T)/(3*np.pi*mu*d_p)\n",
    "        return D\n",
    "    \n",
    "    def beta_diffusion(L,Q,d_p):\n",
    "        D = diffusivity(d_p)\n",
    "        B = np.pi*D*L/(4*Q)\n",
    "        return B\n",
    "    \n",
    "    B = beta_diffusion(L,Q,d_p)\n",
    "    k_d = (1 - 0.819*np.exp(-14.63*B) - 0.0976*np.exp(-89.22*B) - 0.0325*np.exp(-228*B) - 0.0509*np.exp(-125.9*B**(2/3)))\n",
    "    return k_d\n",
    "\n",
    "\n",
    "def get_u_g (d_p):\n",
    "    C_c = 1 + (2*lamda/d_p)*(1.257+0.4*np.exp(-1.1*d_p/(2*lamda)))\n",
    "    func = lambda u_g : u_g - (4*C_c*d_p**2*rho_p*(rho_p-rho_f)*g)/(3*mu*24*(1+0.15*(rho_f*u_g*d_p/mu)**(0.687)))\n",
    "    \n",
    "    u_g_initial_guess = 0.5\n",
    "    u_g = fsolve(func, u_g_initial_guess)\n",
    "    \n",
    "    print(\"u_g = %f\" % u_g)\n",
    "    \n",
    "    return u_g"
   ]
  },
  {
   "cell_type": "code",
   "execution_count": 122,
   "id": "manufactured-andorra",
   "metadata": {},
   "outputs": [],
   "source": [
    "def get_depositions(Q0,d_p):\n",
    "    k_I = {}\n",
    "    k_s = {}\n",
    "    k_d = {}\n",
    "    k = {}\n",
    "    u = get_velocities(Q0)\n",
    "    Q = get_flow_rates(Q0)\n",
    "    u_g = get_u_g(d_p)\n",
    "    for i in range(0,final_generation+1):\n",
    "            k_I[i] = impaction(lengths_SI[i],diameters_SI[i],u[i],d_p)\n",
    "            k_s[i] = sedimentation(lengths_SI[i],diameters_SI[i], Q[i], u[i], u_g, i)\n",
    "            k_d[i] = diffusion(lengths_SI[i],Q[i], d_p)\n",
    "            \n",
    "    return {\"k_I\": k_I, \"k_s\": k_s, \"k_d\": k_d}"
   ]
  },
  {
   "cell_type": "code",
   "execution_count": 123,
   "id": "boring-kennedy",
   "metadata": {},
   "outputs": [
    {
     "name": "stdout",
     "output_type": "stream",
     "text": [
      "u_g = 0.000648\n",
      "ERROR: in generation 23, beta = 1.005024 bigger than one\n",
      "Where generation length = 0.000500, diameter = 0.000400, u = 0.000474 and u_g = 0.000648\n"
     ]
    },
    {
     "data": {
      "image/png": "[encoded data removed]",
      "text/plain": [
       "<Figure size 432x288 with 1 Axes>"
      ]
     },
     "metadata": {
      "needs_background": "light"
     },
     "output_type": "display_data"
    },
    {
     "data": {
      "image/png": "[encoded data removed]",
      "text/plain": [
       "<Figure size 432x288 with 1 Axes>"
      ]
     },
     "metadata": {
      "needs_background": "light"
     },
     "output_type": "display_data"
    },
    {
     "data": {
      "image/png": "[encoded data removed]",
      "text/plain": [
       "<Figure size 432x288 with 1 Axes>"
      ]
     },
     "metadata": {
      "needs_background": "light"
     },
     "output_type": "display_data"
    }
   ],
   "source": [
    "k_dict = get_depositions(Q0, d_p)\n",
    "\n",
    "#Change k_I to cm^-1\n",
    "k_I_newunits = [100*k_dict[\"k_I\"][i] for i in range(final_generation+1)]\n",
    "simple_plot(k_I_newunits, \"Blues\", ylabel=\"Impaction (cm-1)\", xlabel=\"Generation number\")\n",
    "\n",
    "#Change k_s to cm^2/min\n",
    "k_s_newunits = [600000*k_dict[\"k_s\"][i] for i in range(final_generation+1)]\n",
    "simple_plot(k_s_newunits, \"Greens\", ylabel=\"Sedimentation (cm2/min)\", xlabel=\"Generation number\")\n",
    "\n",
    "simple_plot(k_dict[\"k_d\"], ylabel=\"Diffusion ()\", xlabel=\"Generation number\")\n"
   ]
  },
  {
   "cell_type": "markdown",
   "id": "technological-watch",
   "metadata": {},
   "source": [
    "## 3. Adjust deposition to paper values"
   ]
  },
  {
   "cell_type": "code",
   "execution_count": 124,
   "id": "ideal-senate",
   "metadata": {},
   "outputs": [],
   "source": [
    "def adjustment_to_paper_values(k_dict):\n",
    "    # Change the depositions rates to match the paper values\n",
    "    \n",
    "    #IMPACTION: Original units: 1/m , Conversion factor: m/min, Result: 1/min\n",
    "    k_I_conv_factor = 1000/0.07352 # m/min \n",
    "    k_dict[\"k_I\"] = [k_I_conv_factor*k_dict[\"k_I\"][i] for i in range(final_generation+1)]\n",
    "    \n",
    "    #SEDIMENTATION: Original units: m2/s , Conversion factor: m^-2 min/s, Result: 1/min\n",
    "    k_s_conv_factor =  600000*10/2.529 # m^-2 min/s\n",
    "    k_dict[\"k_s\"] = [k_s_conv_factor*k_dict[\"k_s\"][i] for i in range(final_generation+1)]\n",
    "\n",
    "    #DIFFUSION: Original units: , Conversion factor: min^-1, Result: 1/min\n",
    "    k_d_conv_factor = 1/100 # min^-1\n",
    "    k_dict[\"k_d\"] = [k_d_conv_factor*k_dict[\"k_d\"][i] for i in range(final_generation+1)]\n",
    "    \n",
    "    k_dict[\"k\"] = {}\n",
    "    for i in range(0,final_generation+1):\n",
    "        k_dict[\"k\"][i] = k_dict[\"k_I\"][i] + k_dict[\"k_s\"][i] + k_dict[\"k_d\"][i]\n",
    "    \n",
    "    return k_dict\n",
    "    "
   ]
  },
  {
   "cell_type": "code",
   "execution_count": 125,
   "id": "consolidated-panama",
   "metadata": {},
   "outputs": [],
   "source": [
    "def deposition_plot(k_dict, ylabel=\"Deposition (min-1)\", xlabel=\"Generation number\"):\n",
    "    sns.reset_orig()\n",
    "    sns.set_palette(sns.color_palette())\n",
    "    sns.set_color_codes()\n",
    "    sns.set_style({'font.family':'serif', 'font.serif':'Helvetica'})\n",
    "\n",
    "    blues = sns.color_palette(\"Blues\")\n",
    "    blues.reverse()\n",
    "    reds = sns.color_palette(\"Reds\")\n",
    "    reds.reverse()\n",
    "    greens = sns.color_palette(\"Greens\")\n",
    "    greens.reverse()\n",
    "\n",
    "    set2 = sns.color_palette()\n",
    "    set2.reverse()\n",
    "\n",
    "\n",
    "    fig_flow, ax_flow = plt.subplots()\n",
    "    ax_flow.set_title(\" \")\n",
    "    ax_flow.set_ylabel(ylabel)\n",
    "    ax_flow.set_xlabel(xlabel)\n",
    "    ax_flow.yaxis.grid()\n",
    "    ax_flow.xaxis.grid()\n",
    "\n",
    "    final_colors = set2\n",
    "    final_lines = ['-']\n",
    "    final_markers = ['s']\n",
    "    final_labels = [\"total\", \"impaction\", \"sedimentation\", \"10^4 diffusion\"]\n",
    "    \n",
    "    # In the paper they plot k_d * 10^4\n",
    "    k_d_e4 = [10000*k_dict[\"k_d\"][i] for i in range(final_generation+1)]\n",
    "    \n",
    "    for i in range(final_generation+1):\n",
    "        if i == 0:\n",
    "            labels = final_labels\n",
    "        else:\n",
    "            labels = [\"_nolegend_\", \"_nolegend_\", \"_nolegend_\", \"_nolegend_\"]\n",
    "        ax_flow.plot(i, k_dict[\"k\"][i], color=final_colors[0],\n",
    "                     marker=final_markers[0], label=labels[0],\n",
    "                     linestyle=final_lines[0])\n",
    "        ax_flow.plot(i, k_dict[\"k_I\"][i], color=final_colors[1],\n",
    "                     marker=final_markers[0], label=labels[1],\n",
    "                     linestyle=final_lines[0])  \n",
    "        ax_flow.plot(i, k_dict[\"k_s\"][i], color=final_colors[2],\n",
    "                     marker=final_markers[0], label=labels[2],\n",
    "                     linestyle=final_lines[0])  \n",
    "        ax_flow.plot(i, k_d_e4[i], color=final_colors[3],\n",
    "                     marker=final_markers[0], label=labels[3],\n",
    "                     linestyle=final_lines[0])\n",
    "    ax_flow.legend()\n"
   ]
  },
  {
   "cell_type": "code",
   "execution_count": 126,
   "id": "increasing-august",
   "metadata": {},
   "outputs": [
    {
     "name": "stdout",
     "output_type": "stream",
     "text": [
      "u_g = 0.000648\n",
      "ERROR: in generation 23, beta = 1.005024 bigger than one\n",
      "Where generation length = 0.000500, diameter = 0.000400, u = 0.000474 and u_g = 0.000648\n"
     ]
    },
    {
     "data": {
      "image/png": "[encoded data removed]",
      "text/plain": [
       "<Figure size 432x288 with 1 Axes>"
      ]
     },
     "metadata": {
      "needs_background": "light"
     },
     "output_type": "display_data"
    }
   ],
   "source": [
    "deposition_plot(adjustment_to_paper_values(get_depositions(Q0, d_p)))"
   ]
  },
  {
   "cell_type": "markdown",
   "id": "christian-toner",
   "metadata": {},
   "source": [
    "## 4. Obtain the concentration profile"
   ]
  },
  {
   "cell_type": "code",
   "execution_count": 127,
   "id": "promising-excuse",
   "metadata": {},
   "outputs": [],
   "source": [
    "from scipy.integrate import quad\n",
    "\n",
    "def integrand(x, const1, const2):\n",
    "    return const1*np.exp(const2*x)\n",
    "  \n",
    "def concentration(C_previous, L, u, d_p, k, p):\n",
    "    #C = ((u[i]*C_previous)/(u[i]+np.sqrt(u[i]**2+4*D*(k-p)))) * np.exp( (u[i]-np.sqrt(u[i]**2+4*D(k-p))*x)/(2*D) )\n",
    "    \n",
    "    def diffusivity(d_p):\n",
    "        D = (K_b*T)/(3*np.pi*mu*d_p)\n",
    "        return D\n",
    "    \n",
    "    D = diffusivity(d_p)\n",
    "    const1 = (u*C_previous) / (u+np.sqrt(u**2+4*D*(k-p)))\n",
    "    const2 = (u-np.sqrt(u**2+4*D*(k-p))) / (2*D)\n",
    "    I = quad(integrand, 0, L, args=(const1,const2))\n",
    "    C = I[0]/L\n",
    "    return C\n",
    "\n",
    "def get_concentrations(Q0,C0,d_p):\n",
    "    \n",
    "    k = adjustment_to_paper_values(get_depositions(Q0, d_p))[\"k\"]\n",
    "    #Convert to SI units\n",
    "    k = [(1/60)*k[i] for i in range(final_generation+1)]\n",
    "    \n",
    "    #simple_plot(k)\n",
    "    \n",
    "    u = get_velocities(Q0)\n",
    "    C = {}\n",
    "    #C[0] = C0\n",
    "    for i in range(final_generation+1):\n",
    "        if i == 0:\n",
    "            C[i] = concentration(C0, lengths_SI[i], u[i], d_p, k[i], p)\n",
    "        else:\n",
    "            C[i] = concentration(C[i-1], lengths_SI[i], u[i], d_p, k[i], p)\n",
    "\n",
    "    return C"
   ]
  },
  {
   "cell_type": "code",
   "execution_count": 132,
   "id": "premier-wages",
   "metadata": {},
   "outputs": [
    {
     "name": "stdout",
     "output_type": "stream",
     "text": [
      "u_g = 0.000648\n",
      "ERROR: in generation 23, beta = 1.005024 bigger than one\n",
      "Where generation length = 0.000500, diameter = 0.000400, u = 0.000474 and u_g = 0.000648\n",
      "[4944830.851184783, 2465309.0223837853, 1231525.805214044, 615312.0698153147, 307435.10296971264, 153597.73126147728, 76730.94504905953, 38326.32121357592, 19140.216492924796, 9556.668567025665, 4770.508459061476, 2380.671371279623, 1187.7180000321416, 592.3580924562829, 295.34209557221556, 147.17350894599528, 73.32575643837322, 36.51701677948252, 18.17807850429424, 9.045039414461815, 4.498378621210554, 2.235807193675525, 1.1104757124598332, 0.5525927197437861]\n"
     ]
    },
    {
     "data": {
      "image/png": "[encoded data removed]",
      "text/plain": [
       "<Figure size 432x288 with 1 Axes>"
      ]
     },
     "metadata": {
      "needs_background": "light"
     },
     "output_type": "display_data"
    },
    {
     "data": {
      "image/png": "[encoded data removed]",
      "text/plain": [
       "<Figure size 432x288 with 1 Axes>"
      ]
     },
     "metadata": {
      "needs_background": "light"
     },
     "output_type": "display_data"
    }
   ],
   "source": [
    "C = get_concentrations(Q0,C0,d_p)\n",
    "C_ml = [1e-6*C[i] for i in range(final_generation+1)]\n",
    "print(C_ml)\n",
    "simple_plot(C)"
   ]
  },
  {
   "cell_type": "code",
   "execution_count": 72,
   "id": "current-andorra",
   "metadata": {},
   "outputs": [
    {
     "name": "stdout",
     "output_type": "stream",
     "text": [
      "1\n",
      "2\n",
      "3\n",
      "4\n",
      "5\n",
      "6\n",
      "7\n",
      "8\n",
      "9\n",
      "10\n",
      "11\n",
      "12\n",
      "13\n",
      "14\n",
      "15\n",
      "16\n",
      "17\n",
      "18\n",
      "19\n",
      "20\n",
      "21\n",
      "22\n",
      "23\n"
     ]
    }
   ],
   "source": [
    "for i in range(1,final_generation+1):\n",
    "    print(i)"
   ]
  },
  {
   "cell_type": "markdown",
   "id": "initial-robert",
   "metadata": {},
   "source": [
    "## 5. Viral dynamics"
   ]
  },
  {
   "cell_type": "code",
   "execution_count": 18,
   "id": "revised-candidate",
   "metadata": {},
   "outputs": [],
   "source": [
    "from scipy.integrate import odeint"
   ]
  },
  {
   "cell_type": "code",
   "execution_count": 19,
   "id": "chief-rabbit",
   "metadata": {},
   "outputs": [],
   "source": [
    "\n",
    "b_days_ml = b*86400*10**6 # (Copies/mL)^-1 day^-1\n",
    "b_days_m3 = b*86400 # (Copies/m^3)^-1 day^-1\n",
    "p_days = p*86400 # day^-1\n",
    "c_days = c*86400\n",
    "d_days = d*86400\n"
   ]
  },
  {
   "cell_type": "code",
   "execution_count": 52,
   "id": "naval-stack",
   "metadata": {},
   "outputs": [],
   "source": [
    "def dynamics(x,t): \n",
    "    dx = [0,0,0]\n",
    "    dx[0] = -b_days_ml*x[0]*x[2]\n",
    "    dx[1] = b_days_ml*x[0]*x[2] - d_days*x[1]\n",
    "    dx[2] = p_days*x[1] -c_days*x[2]\n",
    "    return dx"
   ]
  },
  {
   "cell_type": "code",
   "execution_count": 64,
   "id": "applicable-lesson",
   "metadata": {
    "scrolled": true
   },
   "outputs": [
    {
     "data": {
      "image/png": "[encoded data removed]",
      "text/plain": [
       "<Figure size 432x288 with 1 Axes>"
      ]
     },
     "metadata": {
      "needs_background": "light"
     },
     "output_type": "display_data"
    }
   ],
   "source": [
    "t = np.arange( 0., 21., 0.01)\n",
    "A0 = 10**(8)\n",
    "C0 = 10**(2)\n",
    "x =[A0,10,C0]\n",
    "\n",
    "N = odeint(dynamics, x, t)\n",
    "N = np.round(N)\n",
    "plt.plot(t,N)\n",
    "plt.legend(['Supsceptible','Infected','Viral'])\n",
    "plt.yscale(\"log\")\n",
    "plt.show()"
   ]
  },
  {
   "cell_type": "code",
   "execution_count": 67,
   "id": "opponent-samba",
   "metadata": {},
   "outputs": [
    {
     "name": "stdout",
     "output_type": "stream",
     "text": [
      "[ 1.0000000e+08  9.9999961e+07  9.9999920e+07 ... -0.0000000e+00\n",
      " -0.0000000e+00 -0.0000000e+00]\n"
     ]
    }
   ],
   "source": [
    "print(N[:,0])"
   ]
  },
  {
   "cell_type": "code",
   "execution_count": 40,
   "id": "outstanding-census",
   "metadata": {},
   "outputs": [
    {
     "name": "stdout",
     "output_type": "stream",
     "text": [
      "[2511886431.509582, 100000000.0, 15848931.924611142, 10000000.0, 7943282.347242822, 6309573.44480193, 5011872.336272725, 5011872.336272725, 5011872.336272725, 2511886.4315095823, 1584893.1924611141, 1584893.1924611141, 125892.54117941661, 158489.3192461114, 251188.6431509582, 398107.1705534969, 630957.344480193, 630957.344480193, 630957.344480193, 794328.2347242822, 794328.2347242822, 1000000.0, 1584893.1924611141, 7943282.347242822, 12589254.117941663]\n"
     ]
    },
    {
     "data": {
      "image/png": "[encoded data removed]",
      "text/plain": [
       "<Figure size 432x288 with 1 Axes>"
      ]
     },
     "metadata": {
      "needs_background": "light"
     },
     "output_type": "display_data"
    }
   ],
   "source": [
    "# ACE2 concentrations in Copies/mL\n",
    "A = [9.419354838709676, 8, 7.225806451612902, 7.041474654377879, 6.9308755760368665, 6.783410138248847, 6.746543778801843, 6.709677419354839, 6.6728110599078345, 6.433179723502303, 6.211981566820276, 6.193548387096774, 5.050691244239632, 5.216589861751152, 5.400921658986175, 5.585253456221198, 5.788018433179723, 5.8433179723502295, 5.8433179723502295, 5.880184331797234, 5.935483870967742, 5.953917050691244, 6.24884792626728, 6.857142857142856, 7.059907834101382]\n",
    "A = np.round(A,1)\n",
    "A = [10**A[i] for i in range(len(A))]\n",
    "print(A)\n",
    "\n",
    "#sns.barplot(range(len(A)),A)\n",
    "#sns.set_yscale('log')\n",
    "plt.bar(range(len(A)), A)\n",
    "plt.yscale('log')\n",
    "\n",
    "# Virus concentrations in Copies/mL\n",
    "plt.bar(range(final_generation+1), C_ml)\n",
    "plt.yscale('log')\n",
    "\n"
   ]
  },
  {
   "cell_type": "code",
   "execution_count": 247,
   "id": "quarterly-entrepreneur",
   "metadata": {
    "scrolled": true
   },
   "outputs": [],
   "source": [
    "susceptible = {}\n",
    "infected = {}\n",
    "viral = {}\n",
    "t = t = np.arange( 0., 60, 1)\n",
    "\n",
    "for i in range(1,final_generation+1):\n",
    "    x = [A[i],0,C_ml[i]]\n",
    "    N = odeint(dynamics, x, t)\n",
    "    #N = np.round(N)\n",
    "    \n",
    "    susceptible[i] = (N[:,0])\n",
    "    infected[i] = (N[:,1])\n",
    "    viral[i] = (N[:,2])"
   ]
  },
  {
   "cell_type": "code",
   "execution_count": 250,
   "id": "physical-crazy",
   "metadata": {
    "scrolled": true
   },
   "outputs": [
    {
     "data": {
      "image/png": "[encoded data removed]",
      "text/plain": [
       "<Figure size 432x288 with 1 Axes>"
      ]
     },
     "metadata": {
      "needs_background": "light"
     },
     "output_type": "display_data"
    }
   ],
   "source": [
    "\n",
    "j = 20\n",
    "N = np.transpose([susceptible[j],infected[j],viral[j]])\n",
    "plt.plot(t,N)\n",
    "plt.legend(['Supsceptible','Infected','Viral'])\n",
    "plt.yscale(\"log\")\n",
    "plt.show()"
   ]
  },
  {
   "cell_type": "code",
   "execution_count": 216,
   "id": "enormous-cedar",
   "metadata": {},
   "outputs": [
    {
     "data": {
      "text/plain": [
       "1.2454429195176662"
      ]
     },
     "execution_count": 216,
     "metadata": {},
     "output_type": "execute_result"
    }
   ],
   "source": [
    "viral[3][0]"
   ]
  },
  {
   "cell_type": "code",
   "execution_count": 230,
   "id": "fourth-beauty",
   "metadata": {},
   "outputs": [
    {
     "name": "stderr",
     "output_type": "stream",
     "text": [
      "<ipython-input-230-eed9334e5a01>:25: RuntimeWarning: invalid value encountered in log10\n",
      "  Z[i,j] = np.log10(viral[i][j])\n",
      "<ipython-input-230-eed9334e5a01>:29: UserWarning: Z contains NaN values. This may result in rendering artifacts.\n",
      "  ax.plot_surface(X, Y, Z)\n"
     ]
    },
    {
     "data": {
      "image/png": "[encoded data removed]",
      "text/plain": [
       "<Figure size 432x288 with 1 Axes>"
      ]
     },
     "metadata": {
      "needs_background": "light"
     },
     "output_type": "display_data"
    }
   ],
   "source": [
    "import numpy as np\n",
    "from mpl_toolkits.mplot3d import Axes3D  \n",
    "# Axes3D import has side effects, it enables using projection='3d' in add_subplot\n",
    "import matplotlib.pyplot as plt\n",
    "from matplotlib import cm\n",
    "import random\n",
    "\n",
    "\n",
    "fig = plt.figure()\n",
    "ax = fig.add_subplot(111, projection='3d')\n",
    "\n",
    "t = t = np.arange( 0., 60, 1)\n",
    "X = t #days\n",
    "Y = np.zeros(len(lengths))\n",
    "Y[0] = lengths[0]\n",
    "for i in range(1,len(lengths)):\n",
    "    #print(i)\n",
    "    Y[i] = Y[i-1] + lengths[i]\n",
    "\n",
    "\n",
    "Z = np.zeros((len(Y), len(X)))\n",
    "\n",
    "for i in range(1,final_generation+1):\n",
    "    for j in range(1,len(t)):\n",
    "        Z[i,j] = np.log10(viral[i][j])\n",
    "\n",
    "X, Y = np.meshgrid(X, Y)\n",
    "\n",
    "ax.plot_surface(X, Y, Z)\n",
    "\n",
    "\n",
    "\n",
    "ax.set_xlabel('Days')\n",
    "ax.set_ylabel('Airway Depth (cm)')\n",
    "ax.set_zlabel('Virus C (log10(Copies/mL))')\n",
    "ax.set_zlim(-8, 7)\n",
    "\n",
    "\n",
    "plt.show()\n"
   ]
  },
  {
   "cell_type": "code",
   "execution_count": 228,
   "id": "worst-nylon",
   "metadata": {},
   "outputs": [
    {
     "name": "stdout",
     "output_type": "stream",
     "text": [
      "(24, 60)\n",
      "(24, 60)\n",
      "(24, 60)\n"
     ]
    }
   ],
   "source": [
    "print(Z.shape)\n",
    "print(X.shape)\n",
    "print(Y.shape)"
   ]
  },
  {
   "cell_type": "code",
   "execution_count": 197,
   "id": "clear-cotton",
   "metadata": {},
   "outputs": [
    {
     "name": "stdout",
     "output_type": "stream",
     "text": [
      "(24, 60)\n",
      "(24, 60)\n",
      "(24, 60)\n"
     ]
    }
   ],
   "source": [
    "t = t = np.arange( 0., 60, 1)\n",
    "X = t #days\n",
    "Y = np.zeros(len(lengths))\n",
    "Y[0] = lengths[0]\n",
    "for i in range(1,len(lengths)):\n",
    "    #print(i)\n",
    "    Y[i] = Y[i-1] + lengths[i]\n",
    "\n",
    "\n",
    "Z = np.zeros((len(Y), len(X)))\n",
    "\n",
    "X, Y = np.meshgrid(X, Y)\n",
    "\n",
    "\n",
    "print(Z.shape)\n",
    "print(X.shape)\n",
    "print(Y.shape)\n"
   ]
  },
  {
   "cell_type": "code",
   "execution_count": 172,
   "id": "frequent-nevada",
   "metadata": {},
   "outputs": [
    {
     "data": {
      "text/plain": [
       "(120, 120)"
      ]
     },
     "execution_count": 172,
     "metadata": {},
     "output_type": "execute_result"
    }
   ],
   "source": [
    "Z.shape"
   ]
  },
  {
   "cell_type": "code",
   "execution_count": null,
   "id": "dependent-independence",
   "metadata": {},
   "outputs": [],
   "source": []
  }
 ],
 "metadata": {
  "kernelspec": {
   "display_name": "Python 3",
   "language": "python",
   "name": "python3"
  },
  "language_info": {
   "codemirror_mode": {
    "name": "ipython",
    "version": 3
   },
   "file_extension": ".py",
   "mimetype": "text/x-python",
   "name": "python",
   "nbconvert_exporter": "python",
   "pygments_lexer": "ipython3",
   "version": "3.9.1"
  }
 },
 "nbformat": 4,
 "nbformat_minor": 5
}

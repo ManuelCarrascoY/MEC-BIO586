{
 "cells": [
  {
   "cell_type": "markdown",
   "id": "weird-particular",
   "metadata": {},
   "source": [
    "# COVID Respiratory Modeling\n",
    "In this notebook we will implement the mathematical model for viral particle deposition in the respiratory tract."
   ]
  },
  {
   "cell_type": "code",
   "execution_count": 1,
   "id": "desperate-repository",
   "metadata": {},
   "outputs": [],
   "source": [
    "import numpy as np\n",
    "import matplotlib.pyplot as plt\n",
    "import seaborn as sns\n",
    "import pandas as pd\n",
    "from scipy.optimize import fsolve"
   ]
  },
  {
   "cell_type": "markdown",
   "id": "excited-rebel",
   "metadata": {},
   "source": [
    "## Parameters\n",
    "Values for the Airflow, Virus and Generation Characteristics. **Described in SI units.** "
   ]
  },
  {
   "cell_type": "code",
   "execution_count": 2,
   "id": "intellectual-programmer",
   "metadata": {},
   "outputs": [],
   "source": [
    "# Airflow characteristics\n",
    "rho_f = 1.2*10**(-3) # g cm^-3 #WRONG\n",
    "mu = 1.81*10**(-4) # g cm^-1 s^-1\n",
    "Q0 = 30 # L min^-1\n",
    "g = 980 # cm s^-2\n",
    "lamda = 0.066*10**(-4) # cm\n",
    "K_b = 1.38*10**(-16) # cm^2 g s^-2 K^-1\n",
    "T = 298 # K\n",
    "\n",
    "# SI units:\n",
    "rho_f = 1.2 # kg m^-3\n",
    "mu = mu*0.1 # kg m^-1 s^-1 \n",
    "Q0 = Q0*1.667*10**-5 # m^3 s^-1\n",
    "g = g*0.01 #m s^-1\n",
    "lamda = lamda*0.01 #m\n",
    "K_b = K_b*10**-7 # m^2 kg s^-2 K^-1\n",
    "T = T # K"
   ]
  },
  {
   "cell_type": "code",
   "execution_count": 3,
   "id": "correct-hybrid",
   "metadata": {},
   "outputs": [],
   "source": [
    "# Virus characteristics\n",
    "C0 = 10^7 # Copies/mL\n",
    "# A = \n",
    "d_p = 60 # nm\n",
    "#d_p = 130 # nm\n",
    "rho_p = 1.18 # g cm^-3\n",
    "p = 8.2 # day^-1\n",
    "c = 0.6 # day^-1\n",
    "b = 3.9*10**(-7) # (Copies/mL)^-1 day^-1\n",
    "d = 4.71 # day^-1\n",
    "\n",
    "# SI units: \n",
    "\n",
    "C0 = C0*10**6 # Copies/m^3\n",
    "d_p = d_p*10**-9 # m\n",
    "rho_p = rho_p*1000 # kg m^-3\n",
    "p = p/86400 # s^-1\n",
    "c = c/86400 # s^-1\n",
    "b = b*10**-6/86400 # (Copies/m^3)^-1 s^-1\n",
    "d = d/86400 # s^-1"
   ]
  },
  {
   "cell_type": "code",
   "execution_count": 4,
   "id": "round-locking",
   "metadata": {},
   "outputs": [],
   "source": [
    "# Generation characteristics\n",
    "final_generation = 23\n",
    "\n",
    "lengths = np.array([12, 4.76, 1.9, 1.76, 1.27, 1.07, 0.9, 0.76, 0.64, 0.54, 0.46, 0.39, 0.33, 0.27, 0.23, 0.2, 0.165, 0.14, 0.12, 0.099, 0.083, 0.07, 0.059, 0.05])\n",
    "diameters = np.array([1.8, 1.22, 0.83, 0.56, 0.45, 0.35, 0.28, 0.23, 0.186, 0.154, 0.13, 0.109, 0.095, 0.082, 0.074, 0.061, 0.06, 0.054, 0.05, 0.047, 0.045, 0.043, 0.041, 0.04])\n",
    "\n",
    "lengths_SI = [0.01*element for element in lengths]\n",
    "diameters_SI = [0.01*element for element in diameters]"
   ]
  },
  {
   "cell_type": "markdown",
   "id": "damaged-prison",
   "metadata": {},
   "source": [
    "## 1. Fluid Velocity and Airflow Rate"
   ]
  },
  {
   "cell_type": "code",
   "execution_count": 5,
   "id": "fourth-failing",
   "metadata": {},
   "outputs": [],
   "source": [
    "def velocity(Q,d):\n",
    "    A = np.pi*(d/2)**2\n",
    "    u = Q/A\n",
    "    return u"
   ]
  },
  {
   "cell_type": "code",
   "execution_count": 6,
   "id": "italic-melissa",
   "metadata": {},
   "outputs": [],
   "source": [
    "Q = {} #Dictionary for the flow rate\n",
    "u = {} #Dictionary for the velocities\n",
    "Q[0] = Q0\n",
    "u[0] = velocity(Q0,diameters_SI[0])\n",
    "for i in range(1,final_generation+1):\n",
    "        Q[i] = Q[i-1]/2\n",
    "        u[i] = velocity(Q[i],diameters_SI[i])\n",
    "#print(u)"
   ]
  },
  {
   "cell_type": "code",
   "execution_count": 7,
   "id": "whole-forth",
   "metadata": {},
   "outputs": [
    {
     "data": {
      "image/png": "[encoded data removed]",
      "text/plain": [
       "<Figure size 432x288 with 1 Axes>"
      ]
     },
     "metadata": {
      "needs_background": "light"
     },
     "output_type": "display_data"
    }
   ],
   "source": [
    "# PLOT AIRFLOW RATE\n",
    "\n",
    "#Change Q to L min^-1\n",
    "Q_paper = [60000*Q[i] for i in range(final_generation+1)]\n",
    "\n",
    "sns.reset_orig()\n",
    "sns.set_palette(sns.color_palette())\n",
    "sns.set_color_codes()\n",
    "sns.set_style({'font.family':'serif', 'font.serif':'Helvetica'})\n",
    "\n",
    "reds = sns.color_palette(\"Reds\")\n",
    "reds.reverse()\n",
    "\n",
    "fig_flow, ax_flow = plt.subplots()\n",
    "ax_flow.set_title(\" \")\n",
    "ax_flow.set_ylabel(\"Air Flowrate (L/min)\")\n",
    "ax_flow.set_xlabel(\"Generation number\")\n",
    "#ax_flow.legend(bbox_to_anchor=(1.05, 1), loc=2, borderaxespad=0., handles=myhandles, labels=mylabels)\n",
    "#ax_flow.set(xlim=(11.4, 4.6))\n",
    "#ax_flow.set(ylim=(50, 95))\n",
    "ax_flow.xaxis.grid()\n",
    "\n",
    "final_colors = [reds[0]]\n",
    "final_lines = ['-']\n",
    "final_markers = ['s']\n",
    "final_labels = [\"label\"]\n",
    "for i in range(final_generation+1):\n",
    "    ax_flow.plot(i, Q_paper[i], color=final_colors[0],\n",
    "                 marker=final_markers[0], label=final_labels[0],\n",
    "                 linestyle=final_lines[0])   \n",
    "#fig_flow.savefig(os.path.join(outputdir, \"Pressure_along_path_600dpi\"), bbox_inches='tight', dpi=600)"
   ]
  },
  {
   "cell_type": "code",
   "execution_count": 251,
   "id": "romance-topic",
   "metadata": {},
   "outputs": [
    {
     "data": {
      "image/png": "[encoded data removed]",
      "text/plain": [
       "<Figure size 432x288 with 1 Axes>"
      ]
     },
     "metadata": {
      "needs_background": "light"
     },
     "output_type": "display_data"
    }
   ],
   "source": [
    "# PLOT VELOCITY\n",
    "\n",
    "#Change u to 10^3 cm min^-1\n",
    "u_paper = [6*u[i] for i in range(final_generation+1)]\n",
    "\n",
    "\n",
    "sns.reset_orig()\n",
    "sns.set_palette(sns.color_palette())\n",
    "sns.set_color_codes()\n",
    "sns.set_style({'font.family':'serif', 'font.serif':'Helvetica'})\n",
    "\n",
    "blues = sns.color_palette(\"Blues\")\n",
    "blues.reverse()\n",
    "\n",
    "fig_flow, ax_flow = plt.subplots()\n",
    "ax_flow.set_title(\" \")\n",
    "ax_flow.set_ylabel(\"Velocity (10^3 cm/min)\")\n",
    "ax_flow.set_xlabel(\"Generation number\")\n",
    "#ax_flow.legend(bbox_to_anchor=(1.05, 1), loc=2, borderaxespad=0., handles=myhandles, labels=mylabels)\n",
    "#ax_flow.set(xlim=(11.4, 4.6))\n",
    "#ax_flow.set(ylim=(50, 95))\n",
    "ax_flow.xaxis.grid()\n",
    "\n",
    "final_colors = [blues[0]]\n",
    "final_lines = ['-']\n",
    "final_markers = ['s']\n",
    "final_labels = [\"label\"]\n",
    "for i in range(final_generation+1):\n",
    "    ax_flow.plot(i, u_paper[i], color=final_colors[0],\n",
    "                 marker=final_markers[0], label=final_labels[0],\n",
    "                 linestyle=final_lines[0])   \n",
    "#fig_flow.savefig(os.path.join(outputdir, \"Pressure_along_path_600dpi\"), bbox_inches='tight', dpi=600)"
   ]
  },
  {
   "cell_type": "markdown",
   "id": "specialized-wedding",
   "metadata": {},
   "source": [
    "## 2. Deposition\n",
    "Impaction, Sedimentation and Diffusion"
   ]
  },
  {
   "cell_type": "code",
   "execution_count": 9,
   "id": "informative-observer",
   "metadata": {},
   "outputs": [],
   "source": [
    "# Functions\n",
    "\n",
    "C_c = 1 + (2*lamda/d_p)*(1.257+0.4*np.exp(-1.1*d_p/(2*lamda)))\n",
    "\n",
    "def impaction(L,d,u):\n",
    "    k_I = (1.3*rho_p*d_p**2*u)/(L*18*mu*d)\n",
    "    return k_I\n",
    "\n",
    "def beta_sedimentation(L,d,u):\n",
    "    B = (3*np.pi*L*u_g)/(16*u*d)\n",
    "    return B\n",
    "\n",
    "def sedimentation(L,d,Q,u):\n",
    "    B = beta_sedimentation(L,d,u)\n",
    "    k_S = ((2*Q)/(np.pi*L)) * (2*B*np.sqrt(1-B**(2/3)) - B**(1/3)*np.sqrt(1-B**(2/3)) + np.arcsin(B**(1/3))) \n",
    "    return k_S\n",
    "\n",
    "def diffusivity(d_p):\n",
    "    D = (K_b*T)/(3*np.pi*mu*d_p)\n",
    "    #D = C_c*(K_b*T)/(3*np.pi*mu*d_p)\n",
    "    return D\n",
    "\n",
    "def beta_diffusion(L,Q):\n",
    "    D = diffusivity(d_p)\n",
    "    B = np.pi*D*L/(4*Q)\n",
    "    return B\n",
    "\n",
    "def diffusion(L,Q):\n",
    "    B = beta_diffusion(L,Q)\n",
    "    k_d = (1 - 0.819*np.exp(-14.63*B) - 0.0976*np.exp(-89.22*B) - 0.0325*np.exp(-228*B) - 0.0509*np.exp(-125.9*B**(2/3)))\n",
    "    return k_d\n"
   ]
  },
  {
   "cell_type": "code",
   "execution_count": 10,
   "id": "equal-canvas",
   "metadata": {},
   "outputs": [
    {
     "name": "stdout",
     "output_type": "stream",
     "text": [
      "4.299146980547118\n"
     ]
    },
    {
     "data": {
      "image/png": "[encoded data removed]",
      "text/plain": [
       "<Figure size 432x288 with 1 Axes>"
      ]
     },
     "metadata": {
      "needs_background": "light"
     },
     "output_type": "display_data"
    },
    {
     "name": "stdout",
     "output_type": "stream",
     "text": [
      "The solution is u_g = 0.000648\n",
      "at which the value of the expression is 0.000000\n",
      "The solution for a simpler u_g = 0.000001\n"
     ]
    }
   ],
   "source": [
    "#Re_p = rho_f*u_g*d_p/mu\n",
    "#C_D = (24/Re_p)*(1 + 0.15*Re_p**0.687)\n",
    "#C_c = 1 + (2*lamda/d_p)*(1.257+0.4*np.exp((-1.1*d_p)/(2*lamda)))\n",
    "\n",
    "#func = lambda u_g : - u_g - (4*C_c*d_p**2*rho_p*(rho_p-rho_f)*g)/(3*mu*C_D*Re_p*rho_f)\n",
    "#func = lambda u_g : u_g - (4*(1 + (2*lamda/d_p)*(1.257+0.4*np.exp((-1.1*d_p)/(2*lamda))))*d_p**2*rho_p*(rho_p-rho_f)*g)/(3*mu*((24/(rho_f*u_g*d_p/mu))*(1 + 0.15*(rho_f*u_g*d_p/mu)**0.687))*(rho_f*u_g*d_p/mu)*rho_f)\n",
    "\n",
    "C_c = 1 + (2*lamda/d_p)*(1.257+0.4*np.exp(-1.1*d_p/(2*lamda)))\n",
    "print(C_c)\n",
    "func = lambda u_g : u_g - (4*C_c*d_p**2*rho_p*(rho_p-rho_f)*g)/(3*mu*24*(1+0.15*(rho_f*u_g*d_p/mu)**(0.687)))\n",
    "\n",
    "# Plot it\n",
    "\n",
    "x_axes = np.linspace(0, 0.001, 201)\n",
    "\n",
    "plt.plot(x_axes, func(x_axes))\n",
    "plt.xlabel(\"u_g\")\n",
    "plt.ylabel(\"expression value\")\n",
    "plt.grid()\n",
    "plt.show()\n",
    "\n",
    "# Use the numerical solver to find the roots\n",
    "\n",
    "u_g_initial_guess = 0.5\n",
    "u_g = fsolve(func, u_g_initial_guess)\n",
    "\n",
    "print(\"The solution is u_g = %f\" % u_g)\n",
    "print(\"at which the value of the expression is %f\" % func(u_g))\n",
    "\n",
    "# Check with the other paper's formula\n",
    "\n",
    "simple_u_g = C_c*rho_p*g*d_p**2/(18*mu)\n",
    "print(\"The solution for a simpler u_g = %f\" % simple_u_g)"
   ]
  },
  {
   "cell_type": "code",
   "execution_count": 11,
   "id": "colonial-contest",
   "metadata": {
    "scrolled": true
   },
   "outputs": [
    {
     "name": "stdout",
     "output_type": "stream",
     "text": [
      "ERROR: in generation 23 with beta 1.005024 bigger than one\n",
      "0.0005\n",
      "0.0004\n",
      "0.0004744135561004691\n",
      "[0.00064755]\n"
     ]
    }
   ],
   "source": [
    "# Find deposition for each generation\n",
    "\n",
    "k_I = {}\n",
    "k_s = {}\n",
    "k_d = {}\n",
    "for i in range(0,final_generation+1):\n",
    "        k_I[i] = impaction(lengths_SI[i],diameters_SI[i],u[i])\n",
    "        if (beta_sedimentation(lengths_SI[i],diameters_SI[i],u[i]))>1 :\n",
    "            beta = beta_sedimentation(lengths_SI[i],diameters_SI[i],u[i])\n",
    "            print('ERROR: in generation %d with beta %f bigger than one' %(i,beta) )\n",
    "            print(lengths_SI[i])\n",
    "            print(diameters_SI[i])\n",
    "            print(u[i])\n",
    "            print(u_g)\n",
    "            k_s[i] = 0\n",
    "        else:\n",
    "            k_s[i] = sedimentation(lengths_SI[i],diameters_SI[i], Q[i], u[i])\n",
    "        k_d[i] = diffusion(lengths_SI[i],Q[i])\n",
    "\n"
   ]
  },
  {
   "cell_type": "code",
   "execution_count": 12,
   "id": "photographic-finish",
   "metadata": {},
   "outputs": [
    {
     "name": "stdout",
     "output_type": "stream",
     "text": [
      "0.0005\n",
      "0.0004\n"
     ]
    }
   ],
   "source": [
    "print(lengths_SI[23])\n",
    "print(diameters_SI[23])"
   ]
  },
  {
   "cell_type": "code",
   "execution_count": 261,
   "id": "hungry-plaintiff",
   "metadata": {},
   "outputs": [
    {
     "data": {
      "image/png": "[encoded data removed]",
      "text/plain": [
       "<Figure size 432x288 with 1 Axes>"
      ]
     },
     "metadata": {
      "needs_background": "light"
     },
     "output_type": "display_data"
    }
   ],
   "source": [
    "# PLOT IMPACTION\n",
    "\n",
    "#Change k_I to cm^-1\n",
    "k_I_newunits = [100*k_I[i] for i in range(final_generation+1)]\n",
    "\n",
    "sns.reset_orig()\n",
    "sns.set_palette(sns.color_palette())\n",
    "sns.set_color_codes()\n",
    "sns.set_style({'font.family':'serif', 'font.serif':'Helvetica'})\n",
    "\n",
    "set1 = sns.color_palette()\n",
    "set1.reverse()\n",
    "\n",
    "fig_flow, ax_flow = plt.subplots()\n",
    "ax_flow.set_title(\" \")\n",
    "#ax_flow.set_ylabel(\"Impaction (cm-1)\")\n",
    "ax_flow.set_ylabel(\"Impaction\")\n",
    "ax_flow.set_xlabel(\"Generation number\")\n",
    "#ax_flow.legend(bbox_to_anchor=(1.05, 1), loc=2, borderaxespad=0., handles=myhandles, labels=mylabels)\n",
    "#ax_flow.set(xlim=(11.4, 4.6))\n",
    "#ax_flow.set(ylim=(50, 95))\n",
    "ax_flow.xaxis.grid()\n",
    "\n",
    "final_colors = [set1[0]]\n",
    "final_lines = ['-']\n",
    "final_markers = ['s']\n",
    "final_labels = [\"label\"]\n",
    "for i in range(final_generation+1):\n",
    "    ax_flow.plot(i, k_I_newunits[i], color=final_colors[0],\n",
    "                 marker=final_markers[0], label=final_labels[0],\n",
    "                 linestyle=final_lines[0])   \n",
    "#fig_flow.savefig(os.path.join(outputdir, \"Pressure_along_path_600dpi\"), bbox_inches='tight', dpi=600)"
   ]
  },
  {
   "cell_type": "code",
   "execution_count": 263,
   "id": "subsequent-bangladesh",
   "metadata": {},
   "outputs": [
    {
     "data": {
      "image/png": "[encoded data removed]",
      "text/plain": [
       "<Figure size 432x288 with 1 Axes>"
      ]
     },
     "metadata": {
      "needs_background": "light"
     },
     "output_type": "display_data"
    }
   ],
   "source": [
    "# PLOT SEDIMENTATION\n",
    "\n",
    "#Change k_s to cm^2/min\n",
    "k_s_newunits = [600000*k_s[i] for i in range(final_generation+1)]\n",
    "\n",
    "sns.reset_orig()\n",
    "sns.set_palette(sns.color_palette())\n",
    "sns.set_color_codes()\n",
    "sns.set_style({'font.family':'serif', 'font.serif':'Helvetica'})\n",
    "\n",
    "set1 = sns.color_palette()\n",
    "set1.reverse()\n",
    "\n",
    "fig_flow, ax_flow = plt.subplots()\n",
    "ax_flow.set_title(\" \")\n",
    "#ax_flow.set_ylabel(\"k_s (cm2/min)\")\n",
    "ax_flow.set_ylabel(\"Sedimentation\")\n",
    "ax_flow.set_xlabel(\"Generation number\")\n",
    "#ax_flow.legend(bbox_to_anchor=(1.05, 1), loc=2, borderaxespad=0., handles=myhandles, labels=mylabels)\n",
    "#ax_flow.set(xlim=(11.4, 4.6))\n",
    "#ax_flow.set(ylim=(50, 95))\n",
    "ax_flow.xaxis.grid()\n",
    "\n",
    "final_colors = [set1[1]]\n",
    "final_lines = ['-']\n",
    "final_markers = ['s']\n",
    "final_labels = [\"label\"]\n",
    "for i in range(final_generation+1):\n",
    "    ax_flow.plot(i, k_s_newunits[i], color=final_colors[0],\n",
    "                 marker=final_markers[0], label=final_labels[0],\n",
    "                 linestyle=final_lines[0])   \n",
    "#fig_flow.savefig(os.path.join(outputdir, \"Pressure_along_path_600dpi\"), bbox_inches='tight', dpi=600)"
   ]
  },
  {
   "cell_type": "code",
   "execution_count": 264,
   "id": "adequate-brave",
   "metadata": {},
   "outputs": [
    {
     "data": {
      "image/png": "[encoded data removed]",
      "text/plain": [
       "<Figure size 432x288 with 1 Axes>"
      ]
     },
     "metadata": {
      "needs_background": "light"
     },
     "output_type": "display_data"
    }
   ],
   "source": [
    "# PLOT DIFFUSION\n",
    "\n",
    "sns.reset_orig()\n",
    "sns.set_palette(sns.color_palette())\n",
    "sns.set_color_codes()\n",
    "sns.set_style({'font.family':'serif', 'font.serif':'Helvetica'})\n",
    "\n",
    "set1 = sns.color_palette()\n",
    "set1.reverse()\n",
    "\n",
    "fig_flow, ax_flow = plt.subplots()\n",
    "ax_flow.set_title(\" \")\n",
    "ax_flow.set_ylabel(\"Diffusion\")\n",
    "ax_flow.set_xlabel(\"Generation number\")\n",
    "#ax_flow.legend(bbox_to_anchor=(1.05, 1), loc=2, borderaxespad=0., handles=myhandles, labels=mylabels)\n",
    "#ax_flow.set(xlim=(11.4, 4.6))\n",
    "#ax_flow.set(ylim=(50, 95))\n",
    "ax_flow.xaxis.grid()\n",
    "\n",
    "final_colors = [set1[3]]\n",
    "final_lines = ['-']\n",
    "final_markers = ['s']\n",
    "final_labels = [\"label\"]\n",
    "for i in range(final_generation+1):\n",
    "    ax_flow.plot(i, k_d[i], color=final_colors[0],\n",
    "                 marker=final_markers[0], label=final_labels[0],\n",
    "                 linestyle=final_lines[0])   \n",
    "#fig_flow.savefig(os.path.join(outputdir, \"Pressure_along_path_600dpi\"), bbox_inches='tight', dpi=600)"
   ]
  },
  {
   "cell_type": "markdown",
   "id": "technological-watch",
   "metadata": {},
   "source": [
    "## 3. Adjust deposition to paper values"
   ]
  },
  {
   "cell_type": "code",
   "execution_count": 273,
   "id": "enclosed-novel",
   "metadata": {
    "scrolled": true
   },
   "outputs": [
    {
     "data": {
      "text/plain": [
       "<matplotlib.legend.Legend at 0x7f7ee38b4be0>"
      ]
     },
     "execution_count": 273,
     "metadata": {},
     "output_type": "execute_result"
    },
    {
     "data": {
      "image/png": "[encoded data removed]",
      "text/plain": [
       "<Figure size 432x288 with 1 Axes>"
      ]
     },
     "metadata": {
      "needs_background": "light"
     },
     "output_type": "display_data"
    }
   ],
   "source": [
    "# Change the depositions rates to match the paper values\n",
    "\n",
    "k_I_conv_factor = 10/0.07352 # cm/min\n",
    "k_I_paper = [k_I_conv_factor*k_I_newunits[i] for i in range(final_generation+1)]\n",
    "\n",
    "k_s_conv_factor =  10/2.529 # cm^-2\n",
    "k_s_paper = [k_s_conv_factor*k_s_newunits[i] for i in range(final_generation+1)]\n",
    "\n",
    "k_d_conv_factor = 1/100 #min^-1\n",
    "k_d_paper = [k_d_conv_factor*k_d[i] for i in range(final_generation+1)]\n",
    "k_d_paper_e4 = [10000*k_d_paper[i] for i in range(final_generation+1)]\n",
    "\n",
    "\n",
    "\n",
    "sns.reset_orig()\n",
    "sns.set_palette(sns.color_palette())\n",
    "sns.set_color_codes()\n",
    "sns.set_style({'font.family':'serif', 'font.serif':'Helvetica'})\n",
    "\n",
    "blues = sns.color_palette(\"Blues\")\n",
    "blues.reverse()\n",
    "reds = sns.color_palette(\"Reds\")\n",
    "reds.reverse()\n",
    "greens = sns.color_palette(\"Greens\")\n",
    "greens.reverse()\n",
    "\n",
    "set1 = sns.color_palette()\n",
    "set1.reverse()\n",
    "\n",
    "\n",
    "fig_flow, ax_flow = plt.subplots()\n",
    "ax_flow.set_title(\" \")\n",
    "ax_flow.set_ylabel(\"Deposition (min-1)\")\n",
    "ax_flow.set_xlabel(\"Generation number\")\n",
    "#ax_flow.legend(bbox_to_anchor=(1.05, 1), loc=2, borderaxespad=0., handles=myhandles, labels=mylabels)\n",
    "#ax_flow.set(xlim=(11.4, 4.6))\n",
    "#ax_flow.set(ylim=(50, 95))\n",
    "ax_flow.xaxis.grid()\n",
    "ax_flow.yaxis.grid()\n",
    "\n",
    "\n",
    "final_colors = set1\n",
    "final_lines = ['-']\n",
    "final_markers = ['s']\n",
    "final_labels = [\"label\"]\n",
    "k_paper = {}\n",
    "for i in range(final_generation+1):\n",
    "    k_paper[i] = k_I_paper[i] + k_s_paper[i] + k_d_paper[i]\n",
    "    ax_flow.plot(i, k_paper[i], color=final_colors[5],\n",
    "                 marker=final_markers[0], label=final_labels[0],\n",
    "                 linestyle=final_lines[0])\n",
    "    ax_flow.plot(i, k_I_paper[i], color=final_colors[0],\n",
    "                 marker=final_markers[0], label=final_labels[0],\n",
    "                 linestyle=final_lines[0])  \n",
    "    ax_flow.plot(i, k_s_paper[i], color=final_colors[1],\n",
    "                 marker=final_markers[0], label=final_labels[0],\n",
    "                 linestyle=final_lines[0])  \n",
    "    ax_flow.plot(i, k_d_paper_e4[i], color=final_colors[3],\n",
    "                 marker=final_markers[0], label=final_labels[0],\n",
    "                 linestyle=final_lines[0])\n",
    "\n",
    "plt.legend(loc='upper right', labels=['Total', 'Impaction', 'Sedimentation', 'Diffusion (10-4)'])\n",
    "\n",
    "#fig_flow.savefig(os.path.join(outputdir, \"Pressure_along_path_600dpi\"), bbox_inches='tight', dpi=600)"
   ]
  },
  {
   "cell_type": "code",
   "execution_count": null,
   "id": "greek-maryland",
   "metadata": {},
   "outputs": [],
   "source": []
  },
  {
   "cell_type": "markdown",
   "id": "christian-toner",
   "metadata": {},
   "source": [
    "## 4. Obtain the concentration profile"
   ]
  },
  {
   "cell_type": "code",
   "execution_count": 17,
   "id": "promising-excuse",
   "metadata": {},
   "outputs": [
    {
     "data": {
      "text/plain": [
       "{0: 13000000,\n",
       " 1: 5495482.763652123,\n",
       " 2: 2602015.3403263343,\n",
       " 3: 1245442.9195176663,\n",
       " 4: 596622.0324283772,\n",
       " 5: 284772.36092496215,\n",
       " 6: 135084.18449281532,\n",
       " 7: 63566.31917877626,\n",
       " 8: 29603.06767772731,\n",
       " 9: 13620.127852795098,\n",
       " 10: 6181.779941663524,\n",
       " 11: 2759.9454442863575,\n",
       " 12: 1212.616288369848,\n",
       " 13: 522.8371397902338,\n",
       " 14: 221.62177741951317,\n",
       " 15: 91.0991125477094,\n",
       " 16: 37.07346520376477,\n",
       " 17: 14.727638740287897,\n",
       " 18: 5.713703728181738,\n",
       " 19: 2.1640564812958822,\n",
       " 20: 0.7976382545904483,\n",
       " 21: 0.28440936179779186,\n",
       " 22: 0.09770443597873232,\n",
       " 23: 0.03708449289131958}"
      ]
     },
     "execution_count": 17,
     "metadata": {},
     "output_type": "execute_result"
    }
   ],
   "source": [
    "from scipy.integrate import quad\n",
    "\n",
    "def integrand(x, const1, const2):\n",
    "    return const1*np.exp(const2*x)\n",
    "  \n",
    "def concentration(C_previous, i):\n",
    "    #C = ((u[i]*C_previous)/(u[i]+np.sqrt(u[i]**2+4*D*(k-p)))) * np.exp( (u[i]-np.sqrt(u[i]**2+4*D(k-p))*x)/(2*D) )\n",
    "    D = diffusivity(d_p)\n",
    "    const1 = (u[i]*C_previous) / (u[i]+np.sqrt(u[i]**2+4*D*(k_paper[i]-p)))\n",
    "    const2 = (u[i]-np.sqrt(u[i]**2+4*D*(k_paper[i]-p))) / (2*D)\n",
    "    I = quad(integrand, 0, lengths_SI[i], args=(const1,const2))\n",
    "    C = I[0]/lengths_SI[i]\n",
    "    return C\n",
    "\n",
    "C = {}\n",
    "C[0] = C0\n",
    "for i in range(1,final_generation+1):\n",
    "        C[i] = concentration(C[i-1], i)\n",
    "\n",
    "C"
   ]
  },
  {
   "cell_type": "markdown",
   "id": "initial-robert",
   "metadata": {},
   "source": [
    "## 5. Viral dynamics"
   ]
  },
  {
   "cell_type": "code",
   "execution_count": 274,
   "id": "revised-candidate",
   "metadata": {},
   "outputs": [],
   "source": [
    "from scipy.integrate import odeint"
   ]
  },
  {
   "cell_type": "code",
   "execution_count": 275,
   "id": "electric-generator",
   "metadata": {},
   "outputs": [],
   "source": [
    "C_ml = [10**(-6)*C[i] for i in range(final_generation+1)]\n",
    "b_days_ml = b*86400*10**6 # (Copies/mL)^-1 day^-1\n",
    "b_days_m3 = b*86400 # (Copies/m^3)^-1 day^-1\n",
    "p_days = p*86400 # day^-1\n",
    "c_days = c*86400\n",
    "d_days = d*86400\n"
   ]
  },
  {
   "cell_type": "code",
   "execution_count": 276,
   "id": "naval-stack",
   "metadata": {},
   "outputs": [],
   "source": [
    "def dynamics(x,t): \n",
    "    dx = [0,0,0]\n",
    "    dx[0] = -b_days_ml*x[0]*x[2]\n",
    "    dx[1] = b_days_ml*x[0]*x[2] - d_days*x[1]\n",
    "    dx[2] = p_days*x[1] -c_days*x[2]\n",
    "    return dx"
   ]
  },
  {
   "cell_type": "code",
   "execution_count": 291,
   "id": "complex-toner",
   "metadata": {},
   "outputs": [
    {
     "data": {
      "text/plain": [
       "<matplotlib.legend.Legend at 0x7f7ee4c500a0>"
      ]
     },
     "execution_count": 291,
     "metadata": {},
     "output_type": "execute_result"
    },
    {
     "data": {
      "image/png": "[encoded data removed]",
      "text/plain": [
       "<Figure size 432x288 with 1 Axes>"
      ]
     },
     "metadata": {
      "needs_background": "light"
     },
     "output_type": "display_data"
    }
   ],
   "source": [
    "# ACE2 concentrations in Copies/mL\n",
    "A = [9.419354838709676, 8, 7.225806451612902, 7.041474654377879, 6.9308755760368665, 6.783410138248847, 6.746543778801843, 6.709677419354839, 6.6728110599078345, 6.433179723502303, 6.211981566820276, 6.193548387096774, 5.050691244239632, 5.216589861751152, 5.400921658986175, 5.585253456221198, 5.788018433179723, 5.8433179723502295, 5.8433179723502295, 5.880184331797234, 5.935483870967742, 5.953917050691244, 6.24884792626728, 6.857142857142856, 7.059907834101382]\n",
    "A = np.round(A,1)\n",
    "A = [10**A[i] for i in range(len(A))]\n",
    "\n",
    "\n",
    "plt.bar(range(len(A)), A)\n",
    "plt.yscale('log')\n",
    "\n",
    "# Virus concentrations in Copies/mL\n",
    "plt.bar(range(final_generation+1), C_ml)\n",
    "plt.yscale('log')\n",
    "plt.ylabel('[] (Copies/mL)')\n",
    "plt.xlabel('Generation number')\n",
    "\n",
    "plt.legend(loc='upper right', labels=['ACE2', 'Viral'])\n",
    "\n",
    "\n"
   ]
  },
  {
   "cell_type": "code",
   "execution_count": 318,
   "id": "aggregate-maker",
   "metadata": {},
   "outputs": [
    {
     "data": {
      "text/plain": [
       "Text(0.5, 0, 'Generation number')"
      ]
     },
     "execution_count": 318,
     "metadata": {},
     "output_type": "execute_result"
    },
    {
     "data": {
      "image/png": "[encoded data removed]",
      "text/plain": [
       "<Figure size 432x288 with 1 Axes>"
      ]
     },
     "metadata": {
      "needs_background": "light"
     },
     "output_type": "display_data"
    }
   ],
   "source": [
    "plt.bar(range(len(A)), A, width=0.5, color='cornflowerblue')\n",
    "plt.yscale('log')\n",
    "plt.ylabel('[ACE2] (Copies/mL)')\n",
    "plt.ylim(1,10**10)\n",
    "plt.grid()\n",
    "plt.xlabel('Generation number')\n"
   ]
  },
  {
   "cell_type": "code",
   "execution_count": 358,
   "id": "applicable-lesson",
   "metadata": {
    "scrolled": true
   },
   "outputs": [
    {
     "data": {
      "image/png": "[encoded data removed]",
      "text/plain": [
       "<Figure size 432x288 with 1 Axes>"
      ]
     },
     "metadata": {
      "needs_background": "light"
     },
     "output_type": "display_data"
    }
   ],
   "source": [
    "t = np.arange( 0., 21., 0.01)\n",
    "j = 5\n",
    "A0 = A[j]\n",
    "C0 = C_ml[j]\n",
    "x =[A0,1,C0]\n",
    "\n",
    "N = odeint(dynamics, x, t)\n",
    "#N = np.round(N)\n",
    "plt.plot(t,N)\n",
    "plt.title('Dynamics of Generation {}'.format(j))\n",
    "plt.ylabel('Copies / mL')\n",
    "plt.xlabel('Days')\n",
    "plt.grid()\n",
    "plt.legend(['Supsceptible','Infected','Viral'])\n",
    "plt.yscale(\"log\")\n",
    "plt.show()"
   ]
  },
  {
   "cell_type": "code",
   "execution_count": 247,
   "id": "quarterly-entrepreneur",
   "metadata": {
    "scrolled": true
   },
   "outputs": [],
   "source": [
    "susceptible = {}\n",
    "infected = {}\n",
    "viral = {}\n",
    "t = t = np.arange( 0., 60, 1)\n",
    "\n",
    "for i in range(1,final_generation+1):\n",
    "    x = [A[i],0,C_ml[i]]\n",
    "    N = odeint(dynamics, x, t)\n",
    "    #N = np.round(N)\n",
    "    \n",
    "    susceptible[i] = (N[:,0])\n",
    "    infected[i] = (N[:,1])\n",
    "    viral[i] = (N[:,2])"
   ]
  },
  {
   "cell_type": "code",
   "execution_count": 250,
   "id": "former-cattle",
   "metadata": {
    "scrolled": true
   },
   "outputs": [
    {
     "data": {
      "image/png": "[encoded data removed]",
      "text/plain": [
       "<Figure size 432x288 with 1 Axes>"
      ]
     },
     "metadata": {
      "needs_background": "light"
     },
     "output_type": "display_data"
    }
   ],
   "source": [
    "\n",
    "j = 20\n",
    "N = np.transpose([susceptible[j],infected[j],viral[j]])\n",
    "plt.plot(t,N)\n",
    "plt.legend(['Supsceptible','Infected','Viral'])\n",
    "plt.yscale(\"log\")\n",
    "plt.show()"
   ]
  },
  {
   "cell_type": "code",
   "execution_count": 230,
   "id": "distinct-husband",
   "metadata": {},
   "outputs": [
    {
     "name": "stderr",
     "output_type": "stream",
     "text": [
      "<ipython-input-230-eed9334e5a01>:25: RuntimeWarning: invalid value encountered in log10\n",
      "  Z[i,j] = np.log10(viral[i][j])\n",
      "<ipython-input-230-eed9334e5a01>:29: UserWarning: Z contains NaN values. This may result in rendering artifacts.\n",
      "  ax.plot_surface(X, Y, Z)\n"
     ]
    },
    {
     "data": {
      "image/png": "[encoded data removed]",
      "text/plain": [
       "<Figure size 432x288 with 1 Axes>"
      ]
     },
     "metadata": {
      "needs_background": "light"
     },
     "output_type": "display_data"
    }
   ],
   "source": [
    "import numpy as np\n",
    "from mpl_toolkits.mplot3d import Axes3D  \n",
    "# Axes3D import has side effects, it enables using projection='3d' in add_subplot\n",
    "import matplotlib.pyplot as plt\n",
    "from matplotlib import cm\n",
    "import random\n",
    "\n",
    "\n",
    "fig = plt.figure()\n",
    "ax = fig.add_subplot(111, projection='3d')\n",
    "\n",
    "t = t = np.arange( 0., 60, 1)\n",
    "X = t #days\n",
    "Y = np.zeros(len(lengths))\n",
    "Y[0] = lengths[0]\n",
    "for i in range(1,len(lengths)):\n",
    "    #print(i)\n",
    "    Y[i] = Y[i-1] + lengths[i]\n",
    "\n",
    "\n",
    "Z = np.zeros((len(Y), len(X)))\n",
    "\n",
    "for i in range(1,final_generation+1):\n",
    "    for j in range(1,len(t)):\n",
    "        Z[i,j] = np.log10(viral[i][j])\n",
    "\n",
    "X, Y = np.meshgrid(X, Y)\n",
    "\n",
    "ax.plot_surface(X, Y, Z)\n",
    "\n",
    "\n",
    "\n",
    "ax.set_xlabel('Days')\n",
    "ax.set_ylabel('Airway Depth (cm)')\n",
    "ax.set_zlabel('Virus C (log10(Copies/mL))')\n",
    "ax.set_zlim(-8, 7)\n",
    "\n",
    "\n",
    "plt.show()\n"
   ]
  },
  {
   "cell_type": "code",
   "execution_count": 228,
   "id": "uniform-photographer",
   "metadata": {},
   "outputs": [
    {
     "name": "stdout",
     "output_type": "stream",
     "text": [
      "(24, 60)\n",
      "(24, 60)\n",
      "(24, 60)\n"
     ]
    }
   ],
   "source": [
    "print(Z.shape)\n",
    "print(X.shape)\n",
    "print(Y.shape)"
   ]
  },
  {
   "cell_type": "code",
   "execution_count": 197,
   "id": "greek-sunrise",
   "metadata": {},
   "outputs": [
    {
     "name": "stdout",
     "output_type": "stream",
     "text": [
      "(24, 60)\n",
      "(24, 60)\n",
      "(24, 60)\n"
     ]
    }
   ],
   "source": [
    "t = t = np.arange( 0., 60, 1)\n",
    "X = t #days\n",
    "Y = np.zeros(len(lengths))\n",
    "Y[0] = lengths[0]\n",
    "for i in range(1,len(lengths)):\n",
    "    #print(i)\n",
    "    Y[i] = Y[i-1] + lengths[i]\n",
    "\n",
    "\n",
    "Z = np.zeros((len(Y), len(X)))\n",
    "\n",
    "X, Y = np.meshgrid(X, Y)\n",
    "\n",
    "\n",
    "print(Z.shape)\n",
    "print(X.shape)\n",
    "print(Y.shape)\n"
   ]
  },
  {
   "cell_type": "code",
   "execution_count": 172,
   "id": "satisfied-stuart",
   "metadata": {},
   "outputs": [
    {
     "data": {
      "text/plain": [
       "(120, 120)"
      ]
     },
     "execution_count": 172,
     "metadata": {},
     "output_type": "execute_result"
    }
   ],
   "source": [
    "Z.shape"
   ]
  },
  {
   "cell_type": "markdown",
   "id": "nervous-brooks",
   "metadata": {},
   "source": [
    "## Results for modified conditions"
   ]
  },
  {
   "cell_type": "code",
   "execution_count": 336,
   "id": "intermediate-ensemble",
   "metadata": {},
   "outputs": [],
   "source": [
    "Q0_mod = [15, 30, 45, 60] #L/min\n",
    "\n",
    "Q0_mod_SI = [1.667e-5*element for element in Q0_mod] #m^3/s\n",
    "\n",
    "labels = ['Q0 = 15 L/min', 'Q0 = 30 L/min', 'Q0 = 45 L/min', 'Q0 = 60 L/min']"
   ]
  },
  {
   "cell_type": "code",
   "execution_count": 345,
   "id": "involved-clinic",
   "metadata": {},
   "outputs": [
    {
     "name": "stdout",
     "output_type": "stream",
     "text": [
      "4.299146980547118\n",
      "The solution is u_g = 0.000648\n",
      "at which the value of the expression is 0.000000\n",
      "The solution for a simpler u_g = 0.000001\n"
     ]
    }
   ],
   "source": [
    "# GET u_g\n",
    "\n",
    "C_c = 1 + (2*lamda/d_p)*(1.257+0.4*np.exp(-1.1*d_p/(2*lamda)))\n",
    "print(C_c)\n",
    "func = lambda u_g : u_g - (4*C_c*d_p**2*rho_p*(rho_p-rho_f)*g)/(3*mu*24*(1+0.15*(rho_f*u_g*d_p/mu)**(0.687)))\n",
    "\n",
    "# Use the numerical solver to find the roots\n",
    "\n",
    "u_g_initial_guess = 0.5\n",
    "u_g = fsolve(func, u_g_initial_guess)\n",
    "\n",
    "print(\"The solution is u_g = %f\" % u_g)\n",
    "print(\"at which the value of the expression is %f\" % func(u_g))\n",
    "\n",
    "# Check with the other paper's formula\n",
    "\n",
    "simple_u_g = C_c*rho_p*g*d_p**2/(18*mu)\n",
    "print(\"The solution for a simpler u_g = %f\" % simple_u_g)"
   ]
  },
  {
   "cell_type": "code",
   "execution_count": 351,
   "id": "amber-disaster",
   "metadata": {},
   "outputs": [
    {
     "name": "stdout",
     "output_type": "stream",
     "text": [
      "ERROR: in generation 22 with beta 1.215577 bigger than one\n",
      "0.00059\n",
      "0.00041000000000000005\n",
      "0.0004515536524454197\n",
      "[0.00064755]\n",
      "ERROR: in generation 23 with beta 2.010049 bigger than one\n",
      "0.0005\n",
      "0.0004\n",
      "0.00023720677805023454\n",
      "[0.00064755]\n",
      "ERROR: in generation 23 with beta 1.005024 bigger than one\n",
      "0.0005\n",
      "0.0004\n",
      "0.0004744135561004691\n",
      "[0.00064755]\n"
     ]
    },
    {
     "data": {
      "text/plain": [
       "<matplotlib.legend.Legend at 0x7f7ee9b5aa90>"
      ]
     },
     "execution_count": 351,
     "metadata": {},
     "output_type": "execute_result"
    },
    {
     "data": {
      "image/png": "[encoded data removed]",
      "text/plain": [
       "<Figure size 432x288 with 1 Axes>"
      ]
     },
     "metadata": {
      "needs_background": "light"
     },
     "output_type": "display_data"
    },
    {
     "data": {
      "image/png": "[encoded data removed]",
      "text/plain": [
       "<Figure size 432x288 with 1 Axes>"
      ]
     },
     "metadata": {
      "needs_background": "light"
     },
     "output_type": "display_data"
    }
   ],
   "source": [
    "# Calculate and Plot Velocity and Deposition\n",
    "sns.reset_orig()\n",
    "sns.set_palette(sns.color_palette())\n",
    "sns.set_color_codes()\n",
    "sns.set_style({'font.family':'serif', 'font.serif':'Helvetica'})\n",
    "\n",
    "set2 = sns.color_palette(\"muted\")\n",
    "#set2.reverse()\n",
    "\n",
    "\n",
    "fig_u, ax_u = plt.subplots()\n",
    "fig_k, ax_k = plt.subplots()\n",
    "\n",
    "ax_u.set_title(\" \")\n",
    "ax_u.set_ylabel(\"Velocity (10^3 cm/min)\")\n",
    "ax_u.set_xlabel(\"Generation number\")\n",
    "\n",
    "\n",
    "ax_k.set_title(\" \")\n",
    "ax_k.set_ylabel(\"Deposition (min-1)\")\n",
    "ax_k.set_xlabel(\"Generation number\")\n",
    "#ax_flow.set(xlim=(11.4, 4.6))\n",
    "#ax_flow.set(ylim=(50, 95))\n",
    "\n",
    "ax_u.xaxis.grid()\n",
    "ax_u.yaxis.grid()\n",
    "ax_k.xaxis.grid()\n",
    "ax_k.yaxis.grid()\n",
    "\n",
    "final_colors = set2\n",
    "final_lines = ['-']\n",
    "final_markers = ['s']\n",
    "final_labels = labels\n",
    "\n",
    "\n",
    "for j in range(0,len(Q0_mod_SI)):\n",
    "    \n",
    "    Q = {} #Dictionary for the flow rate\n",
    "    u = {} #Dictionary for the velocities\n",
    "    Q[0] = Q0_mod_SI[j]\n",
    "    u[0] = velocity(Q[0],diameters_SI[0])\n",
    "    for i in range(1,final_generation+1):\n",
    "            Q[i] = Q[i-1]/2\n",
    "            u[i] = velocity(Q[i],diameters_SI[i])\n",
    "\n",
    "    # PLOT VELOCITY\n",
    "\n",
    "    #Change u to 10^3 cm min^-1\n",
    "    u_paper = [6*u[i] for i in range(final_generation+1)]\n",
    "\n",
    " \n",
    "    for i in range(final_generation+1):\n",
    "        if i == 0:\n",
    "            ax_u.plot(i, u_paper[i], color=final_colors[j],\n",
    "                         marker=final_markers[0], label=final_labels[j],\n",
    "                         linestyle=final_lines[0])   \n",
    "        else :\n",
    "            ax_u.plot(i, u_paper[i], color=final_colors[j],\n",
    "                         marker=final_markers[0])   \n",
    "    \n",
    "    # PLOT DEPOSITION\n",
    "    \n",
    "    k_I = {}\n",
    "    k_s = {}\n",
    "    k_d = {}\n",
    "    for i in range(0,final_generation+1):\n",
    "            k_I[i] = impaction(lengths_SI[i],diameters_SI[i],u[i])\n",
    "            if (beta_sedimentation(lengths_SI[i],diameters_SI[i],u[i]))>1 :\n",
    "                beta = beta_sedimentation(lengths_SI[i],diameters_SI[i],u[i])\n",
    "                print('ERROR: in generation %d with beta %f bigger than one' %(i,beta) )\n",
    "                print(lengths_SI[i])\n",
    "                print(diameters_SI[i])\n",
    "                print(u[i])\n",
    "                print(u_g)\n",
    "                k_s[i] = 0\n",
    "            else:\n",
    "                k_s[i] = sedimentation(lengths_SI[i],diameters_SI[i], Q[i], u[i])\n",
    "            k_d[i] = diffusion(lengths_SI[i],Q[i])\n",
    "    k_I_newunits = [100*k_I[i] for i in range(final_generation+1)]\n",
    "    k_s_newunits = [600000*k_s[i] for i in range(final_generation+1)]\n",
    "    \n",
    "    k_I_conv_factor = 10/0.07352 # cm/min\n",
    "    k_I_paper = [k_I_conv_factor*k_I_newunits[i] for i in range(final_generation+1)]\n",
    "\n",
    "    k_s_conv_factor =  10/2.529 # cm^-2\n",
    "    k_s_paper = [k_s_conv_factor*k_s_newunits[i] for i in range(final_generation+1)]\n",
    "\n",
    "    k_d_conv_factor = 1/100 #min^-1\n",
    "    k_d_paper = [k_d_conv_factor*k_d[i] for i in range(final_generation+1)]\n",
    "    k_d_paper_e4 = [10000*k_d_paper[i] for i in range(final_generation+1)]\n",
    "\n",
    "    k_paper = {}\n",
    "    for i in range(final_generation+1):\n",
    "        k_paper[i] = k_I_paper[i] + k_s_paper[i] + k_d_paper[i]\n",
    "        if i == 0:\n",
    "            ax_k.plot(i, k_paper[i], color=final_colors[j],\n",
    "                         marker=final_markers[0], label=final_labels[j],\n",
    "                         linestyle=final_lines[0])   \n",
    "        else :\n",
    "            ax_k.plot(i, k_paper[i], color=final_colors[j],\n",
    "                         marker=final_markers[0]) \n",
    "\n",
    "\n",
    "            \n",
    "\n",
    "ax_u.legend()\n",
    "ax_k.legend()\n"
   ]
  },
  {
   "cell_type": "code",
   "execution_count": null,
   "id": "legislative-diamond",
   "metadata": {},
   "outputs": [],
   "source": []
  }
 ],
 "metadata": {
  "kernelspec": {
   "display_name": "Python 3",
   "language": "python",
   "name": "python3"
  },
  "language_info": {
   "codemirror_mode": {
    "name": "ipython",
    "version": 3
   },
   "file_extension": ".py",
   "mimetype": "text/x-python",
   "name": "python",
   "nbconvert_exporter": "python",
   "pygments_lexer": "ipython3",
   "version": "3.9.1"
  }
 },
 "nbformat": 4,
 "nbformat_minor": 5
}

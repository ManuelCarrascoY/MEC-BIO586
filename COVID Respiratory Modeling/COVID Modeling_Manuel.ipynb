{
 "cells": [
  {
   "cell_type": "markdown",
   "id": "weird-particular",
   "metadata": {},
   "source": [
    "# COVID Respiratory Modeling\n",
    "In this notebook we will implement the mathematical model for viral particle deposition in the respiratory tract."
   ]
  },
  {
   "cell_type": "code",
   "execution_count": 96,
   "id": "desperate-repository",
   "metadata": {},
   "outputs": [],
   "source": [
    "import numpy as np\n",
    "import matplotlib.pyplot as plt\n",
    "import seaborn as sns\n",
    "import pandas as pd\n",
    "from scipy.optimize import fsolve"
   ]
  },
  {
   "cell_type": "markdown",
   "id": "excited-rebel",
   "metadata": {},
   "source": [
    "## Parameters\n",
    "Values for the Airflow, Virus and Generation Characteristics. **Described in SI units.** "
   ]
  },
  {
   "cell_type": "code",
   "execution_count": 97,
   "id": "flexible-nerve",
   "metadata": {},
   "outputs": [],
   "source": [
    "# Airflow characteristics\n",
    "rho_f = 1.2*10**(-4) # g cm^-3\n",
    "mu = 1.81*10**(-4) # g cm^-1 s^-1\n",
    "Q0 = 30 # L min^-1\n",
    "g = 980 # cm s^-2\n",
    "lamda = 0.066*10**(-4) # cm\n",
    "K_b = 1.38*10**(-16) # cm^2 g s^-2 K^-1\n",
    "T = 298 # K\n",
    "\n",
    "\n",
    "# Virus characteristics\n",
    "C0 = 10^7 # Copies/mL\n",
    "# A = \n",
    "d_p = 60 # nm\n",
    "rho_p = 1.18 # g cm^-3\n",
    "p = 8.2 # day^-1\n",
    "c = 0.6 # day^-1\n",
    "b = 3.9*10**(-7) # (Copies/mL)^-1 day^-1\n",
    "d = 4.71 # day^-1\n",
    "\n",
    "# Generation characteristics\n",
    "final_generation = 23\n",
    "\n",
    "lengths = [12, 4.76, 1.9, 1.76, 1.27, 1.07, 0.9, 0.76, 0.64, 0.54, 0.46, 0.39, 0.33, 0.27, 0.23, 0.2, 0.165, 0.14, 0.12, 0.099, 0.083, 0.07, 0.059, 0.05]\n",
    "diameters = [1.8, 1.22, 0.83, 0.56, 0.45, 0.35, 0.28, 0.23, 0.186, 0.154, 0.13, 0.109, 0.095, 0.082, 0.074, 0.061, 0.06, 0.054, 0.05, 0.047, 0.045, 0.043, 0.041, 0.04]\n",
    "\n"
   ]
  },
  {
   "cell_type": "code",
   "execution_count": 98,
   "id": "fresh-deputy",
   "metadata": {},
   "outputs": [],
   "source": [
    "# SI units: \n",
    "\n",
    "# Airflow characteristics\n",
    "rho_f = rho_f*1000 # kg m^-3\n",
    "mu = mu*0.1 # kg m^-1 s^-1 \n",
    "Q0 = Q0*1.667*10**-5 # m^3 s^-1\n",
    "g = g*0.01 #m s^-1\n",
    "lamda = lamda*0.01 #m\n",
    "K_b = K_b*10**-7 # m^2 kg s^-2 K^-1\n",
    "T = T # K\n",
    "\n",
    "# Virus characteristics\n",
    "\n",
    "C0 = C0*10**6 # Copies/m^3\n",
    "d_p = d_p*10**-9 # m\n",
    "rho_p = rho_p*1000 # kg m^-3\n",
    "p = p/86400 # s^-1\n",
    "c = c/86400 # s^-1\n",
    "b = b*10**-6/86400 # (Copies/m^3)^-1 s^-1\n",
    "d = d/86400 # s^-1\n",
    "\n",
    "# Generation characteristics\n",
    "\n",
    "lengths_SI = [0.01*element for element in lengths]\n",
    "diameters_SI = [0.01*element for element in diameters]"
   ]
  },
  {
   "cell_type": "code",
   "execution_count": 113,
   "id": "removed-sacramento",
   "metadata": {},
   "outputs": [
    {
     "name": "stdout",
     "output_type": "stream",
     "text": [
      "4.017856279748988e-10\n"
     ]
    }
   ],
   "source": [
    "print(diffusivity(d_p))"
   ]
  },
  {
   "cell_type": "markdown",
   "id": "damaged-prison",
   "metadata": {},
   "source": [
    "## 1. Fluid Velocity and Airflow Rate"
   ]
  },
  {
   "cell_type": "code",
   "execution_count": 99,
   "id": "fourth-failing",
   "metadata": {},
   "outputs": [],
   "source": [
    "def velocity(Q,d):\n",
    "    A = np.pi*(d/2)**2\n",
    "    u = Q/A\n",
    "    return u"
   ]
  },
  {
   "cell_type": "code",
   "execution_count": 100,
   "id": "italic-melissa",
   "metadata": {},
   "outputs": [],
   "source": [
    "Q = {} #Dictionary for the flow rate\n",
    "u = {} #Dictionary for the velocities\n",
    "Q[0] = Q0\n",
    "u[0] = velocity(Q0,diameters_SI[0])\n",
    "for i in range(1,final_generation+1):\n",
    "        Q[i] = Q[i-1]/2\n",
    "        u[i] = velocity(Q[i],diameters_SI[i])\n",
    "#print(u)"
   ]
  },
  {
   "cell_type": "code",
   "execution_count": 101,
   "id": "whole-forth",
   "metadata": {},
   "outputs": [
    {
     "data": {
      "image/png": "[encoded data removed]",
      "text/plain": [
       "<Figure size 432x288 with 1 Axes>"
      ]
     },
     "metadata": {
      "needs_background": "light"
     },
     "output_type": "display_data"
    }
   ],
   "source": [
    "# PLOT AIRFLOW RATE\n",
    "\n",
    "#Change Q to L min^-1\n",
    "Q_paper = [60000*Q[i] for i in range(final_generation+1)]\n",
    "\n",
    "sns.reset_orig()\n",
    "sns.set_palette(sns.color_palette())\n",
    "sns.set_color_codes()\n",
    "sns.set_style({'font.family':'serif', 'font.serif':'Helvetica'})\n",
    "\n",
    "reds = sns.color_palette(\"Reds\")\n",
    "reds.reverse()\n",
    "\n",
    "fig_flow, ax_flow = plt.subplots()\n",
    "ax_flow.set_title(\" \")\n",
    "ax_flow.set_ylabel(\"Air Flowrate (L/min)\")\n",
    "ax_flow.set_xlabel(\"Generation number\")\n",
    "#ax_flow.legend(bbox_to_anchor=(1.05, 1), loc=2, borderaxespad=0., handles=myhandles, labels=mylabels)\n",
    "#ax_flow.set(xlim=(11.4, 4.6))\n",
    "#ax_flow.set(ylim=(50, 95))\n",
    "ax_flow.xaxis.grid()\n",
    "\n",
    "final_colors = [reds[0]]\n",
    "final_lines = ['-']\n",
    "final_markers = ['s']\n",
    "final_labels = [\"label\"]\n",
    "for i in range(final_generation+1):\n",
    "    ax_flow.plot(i, Q_paper[i], color=final_colors[0],\n",
    "                 marker=final_markers[0], label=final_labels[0],\n",
    "                 linestyle=final_lines[0])   \n",
    "#fig_flow.savefig(os.path.join(outputdir, \"Pressure_along_path_600dpi\"), bbox_inches='tight', dpi=600)"
   ]
  },
  {
   "cell_type": "code",
   "execution_count": 102,
   "id": "romance-topic",
   "metadata": {},
   "outputs": [
    {
     "data": {
      "image/png": "[encoded data removed]",
      "text/plain": [
       "<Figure size 432x288 with 1 Axes>"
      ]
     },
     "metadata": {
      "needs_background": "light"
     },
     "output_type": "display_data"
    }
   ],
   "source": [
    "# PLOT VELOCITY\n",
    "\n",
    "#Change u to 10^3 cm min^-1\n",
    "u_paper = [6*u[i] for i in range(final_generation+1)]\n",
    "\n",
    "\n",
    "sns.reset_orig()\n",
    "sns.set_palette(sns.color_palette())\n",
    "sns.set_color_codes()\n",
    "sns.set_style({'font.family':'serif', 'font.serif':'Helvetica'})\n",
    "\n",
    "blues = sns.color_palette(\"Blues\")\n",
    "blues.reverse()\n",
    "\n",
    "fig_flow, ax_flow = plt.subplots()\n",
    "ax_flow.set_title(\" \")\n",
    "ax_flow.set_ylabel(\"Velocity (UNITS)\")\n",
    "ax_flow.set_xlabel(\"Generation number\")\n",
    "#ax_flow.legend(bbox_to_anchor=(1.05, 1), loc=2, borderaxespad=0., handles=myhandles, labels=mylabels)\n",
    "#ax_flow.set(xlim=(11.4, 4.6))\n",
    "#ax_flow.set(ylim=(50, 95))\n",
    "ax_flow.xaxis.grid()\n",
    "\n",
    "final_colors = [blues[0]]\n",
    "final_lines = ['-']\n",
    "final_markers = ['s']\n",
    "final_labels = [\"label\"]\n",
    "for i in range(final_generation+1):\n",
    "    ax_flow.plot(i, u_paper[i], color=final_colors[0],\n",
    "                 marker=final_markers[0], label=final_labels[0],\n",
    "                 linestyle=final_lines[0])   \n",
    "#fig_flow.savefig(os.path.join(outputdir, \"Pressure_along_path_600dpi\"), bbox_inches='tight', dpi=600)"
   ]
  },
  {
   "cell_type": "markdown",
   "id": "specialized-wedding",
   "metadata": {},
   "source": [
    "## 2. Deposition\n",
    "Impaction, Sedimentation and Diffusion"
   ]
  },
  {
   "cell_type": "code",
   "execution_count": 114,
   "id": "informative-observer",
   "metadata": {},
   "outputs": [],
   "source": [
    "# Functions\n",
    "\n",
    "def impaction(L,d,u):\n",
    "    k_I = (1.3*rho_p*d_p**2*u)/(L*18*mu*d)\n",
    "    return k_I\n",
    "\n",
    "\n",
    "def beta_sedimentation(L,d,u):\n",
    "    B = (3*np.pi*L*u_g)/16*u*d\n",
    "    return B\n",
    "\n",
    "def sedimentation(L,d,Q,u):\n",
    "    B = beta_sedimentation(L,d,u)\n",
    "    k_S = ((2*Q)/(np.pi*L)) * (2*B*sqrt(1-B**(2/3)) - B**(1/3)*sqrt(1-B**(2/3)) + sin(B**(1/3))**(-1)) \n",
    "    return k_S\n",
    "\n",
    "def diffusivity(d_p):\n",
    "    D = (K_b*T)/(3*np.pi*mu*d_p)\n",
    "    return D\n",
    "\n",
    "def beta_diffusion(L,Q):\n",
    "    D = diffusivity(d_p)\n",
    "    B = np.pi*D*L/(4*Q)\n",
    "    return B\n",
    "\n",
    "def diffusion(L,Q):\n",
    "    B = beta_diffusion(L,Q)\n",
    "    k_d = 1 - 0.819*np.exp(-14.63*B) - 0.0976*np.exp(-89.22*B) - 0.0325*np.exp(-228*B) - 0.0509*np.exp(-125.9*B**(2/3))\n",
    "    return k_d\n"
   ]
  },
  {
   "cell_type": "code",
   "execution_count": 104,
   "id": "impossible-sponsorship",
   "metadata": {},
   "outputs": [
    {
     "name": "stdout",
     "output_type": "stream",
     "text": [
      "The solution is tau = 0.005401\n",
      "at which the value of the expression is 0.000000\n"
     ]
    }
   ],
   "source": [
    "#Re_p = rho_f*u_g*d_p/mu\n",
    "#C_D = (24/Re_p)*(1 + 0.15*Re_p**0.687)\n",
    "#C_c = 1 + (2*lamda/d_p)*(1.257+0.4*np.exp((-1.1*d_p)/(2*lamda)))\n",
    "\n",
    "#func = lambda u_g : - u_g - (4*C_c*d_p**2*rho_p*(rho_p-rho_f)*g)/(3*mu*C_D*Re_p*rho_f)\n",
    "\n",
    "func = lambda u_g : u_g - (4*(1 + (2*lamda/d_p)*(1.257+0.4*np.exp((-1.1*d_p)/(2*lamda))))*d_p**2*rho_p*(rho_p-rho_f)*g)/(3*mu*((24/(rho_f*u_g*d_p/mu))*(1 + 0.15*(rho_f*u_g*d_p/mu)**0.687))*(rho_f*u_g*d_p/mu)*rho_f)\n",
    "\n",
    "# Plot it\n",
    "'''\n",
    "x_axes = np.linspace(-10, 10, 201)\n",
    "\n",
    "plt.plot(x_axes, func(x_axes))\n",
    "plt.xlabel(\"u_g\")\n",
    "plt.ylabel(\"expression value\")\n",
    "plt.grid()\n",
    "plt.show()\n",
    "'''\n",
    "\n",
    "# Use the numerical solver to find the roots\n",
    "\n",
    "u_g_initial_guess = 0.5\n",
    "u_g = fsolve(func, u_g_initial_guess)\n",
    "\n",
    "print(\"The solution is tau = %f\" % u_g)\n",
    "print(\"at which the value of the expression is %f\" % func(u_g))"
   ]
  },
  {
   "cell_type": "code",
   "execution_count": 115,
   "id": "colonial-contest",
   "metadata": {},
   "outputs": [],
   "source": [
    "# Find deposition for each generation\n",
    "\n",
    "k_I = {}\n",
    "k_d = {}\n",
    "for i in range(0,final_generation+1):\n",
    "        k_I[i] = impaction(lengths_SI[i],diameters_SI[i],u[i])\n",
    "        k_d[i] = diffusion(lengths_SI[i],Q[i])\n",
    "\n"
   ]
  },
  {
   "cell_type": "code",
   "execution_count": 116,
   "id": "interesting-construction",
   "metadata": {},
   "outputs": [
    {
     "data": {
      "image/png": "[encoded data removed]",
      "text/plain": [
       "<Figure size 432x288 with 1 Axes>"
      ]
     },
     "metadata": {
      "needs_background": "light"
     },
     "output_type": "display_data"
    }
   ],
   "source": [
    "sns.reset_orig()\n",
    "sns.set_palette(sns.color_palette())\n",
    "sns.set_color_codes()\n",
    "sns.set_style({'font.family':'serif', 'font.serif':'Helvetica'})\n",
    "\n",
    "blues = sns.color_palette(\"Blues\")\n",
    "blues.reverse()\n",
    "\n",
    "fig_flow, ax_flow = plt.subplots()\n",
    "ax_flow.set_title(\" \")\n",
    "ax_flow.set_ylabel(\"Velocity (UNITS)\")\n",
    "ax_flow.set_xlabel(\"Generation number\")\n",
    "#ax_flow.legend(bbox_to_anchor=(1.05, 1), loc=2, borderaxespad=0., handles=myhandles, labels=mylabels)\n",
    "#ax_flow.set(xlim=(11.4, 4.6))\n",
    "#ax_flow.set(ylim=(50, 95))\n",
    "ax_flow.xaxis.grid()\n",
    "\n",
    "final_colors = [blues[0]]\n",
    "final_lines = ['-']\n",
    "final_markers = ['s']\n",
    "final_labels = [\"label\"]\n",
    "for i in range(final_generation+1):\n",
    "    ax_flow.plot(i, k_I[i], color=final_colors[0],\n",
    "                 marker=final_markers[0], label=final_labels[0],\n",
    "                 linestyle=final_lines[0])   \n",
    "#fig_flow.savefig(os.path.join(outputdir, \"Pressure_along_path_600dpi\"), bbox_inches='tight', dpi=600)"
   ]
  },
  {
   "cell_type": "code",
   "execution_count": 117,
   "id": "adequate-brave",
   "metadata": {},
   "outputs": [
    {
     "data": {
      "image/png": "[encoded data removed]",
      "text/plain": [
       "<Figure size 432x288 with 1 Axes>"
      ]
     },
     "metadata": {
      "needs_background": "light"
     },
     "output_type": "display_data"
    }
   ],
   "source": [
    "sns.reset_orig()\n",
    "sns.set_palette(sns.color_palette())\n",
    "sns.set_color_codes()\n",
    "sns.set_style({'font.family':'serif', 'font.serif':'Helvetica'})\n",
    "\n",
    "blues = sns.color_palette(\"Blues\")\n",
    "blues.reverse()\n",
    "\n",
    "fig_flow, ax_flow = plt.subplots()\n",
    "ax_flow.set_title(\" \")\n",
    "ax_flow.set_ylabel(\"Velocity (UNITS)\")\n",
    "ax_flow.set_xlabel(\"Generation number\")\n",
    "#ax_flow.legend(bbox_to_anchor=(1.05, 1), loc=2, borderaxespad=0., handles=myhandles, labels=mylabels)\n",
    "#ax_flow.set(xlim=(11.4, 4.6))\n",
    "#ax_flow.set(ylim=(50, 95))\n",
    "ax_flow.xaxis.grid()\n",
    "\n",
    "final_colors = [blues[0]]\n",
    "final_lines = ['-']\n",
    "final_markers = ['s']\n",
    "final_labels = [\"label\"]\n",
    "for i in range(final_generation+1):\n",
    "    ax_flow.plot(i, k_d[i], color=final_colors[0],\n",
    "                 marker=final_markers[0], label=final_labels[0],\n",
    "                 linestyle=final_lines[0])   \n",
    "#fig_flow.savefig(os.path.join(outputdir, \"Pressure_along_path_600dpi\"), bbox_inches='tight', dpi=600)"
   ]
  },
  {
   "cell_type": "code",
   "execution_count": null,
   "id": "serial-cargo",
   "metadata": {},
   "outputs": [],
   "source": []
  }
 ],
 "metadata": {
  "kernelspec": {
   "display_name": "Python 3",
   "language": "python",
   "name": "python3"
  },
  "language_info": {
   "codemirror_mode": {
    "name": "ipython",
    "version": 3
   },
   "file_extension": ".py",
   "mimetype": "text/x-python",
   "name": "python",
   "nbconvert_exporter": "python",
   "pygments_lexer": "ipython3",
   "version": "3.9.1"
  }
 },
 "nbformat": 4,
 "nbformat_minor": 5
}
